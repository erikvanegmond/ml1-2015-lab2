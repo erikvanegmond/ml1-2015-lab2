{
 "cells": [
  {
   "cell_type": "markdown",
   "metadata": {},
   "source": [
    "# Lab 2: Classification\n",
    "\n",
    "### Machine Learning 1, September 2015\n",
    "\n",
    "* The lab exercises should be made in groups of two, three or four people.\n",
    "* The deadline is October 4th (Sunday) 23:59.\n",
    "* Assignment should be sent to Philip Versteeg (p.j.j.p.versteeg@uva.nl). The subject line of your email should be \"lab\\#\\_lastname1\\_lastname2\\_lastname3\".\n",
    "* Put your and your teammates' names in the body of the email\n",
    "* Attach the .IPYNB (IPython Notebook) file containing your code and answers. Naming of the file follows the same rule as the subject line. For example, if the subject line is \"lab01\\_Kingma\\_Hu\", the attached file should be \"lab01\\_Kingma\\_Hu.ipynb\". Only use underscores (\"\\_\") to connect names, otherwise the files cannot be parsed.\n",
    "\n",
    "Notes on implementation:\n",
    "\n",
    "* For this notebook you need to answer a few theory questions, add them in the Markdown cell's below the question. Note: you can use Latex-style code in here.\n",
    "* Focus on Part 1 the first week, and Part 2 the second week!\n",
    "* You should write your code and answers below the questions in this IPython Notebook.\n",
    "* Among the first lines of your notebook should be \"%pylab inline\". This imports all required modules, and your plots will appear inline.\n",
    "* If you have questions outside of the labs, post them on blackboard or email me.\n",
    "* NOTE: Make sure we can run your notebook / scripts!\n",
    "\n",
    "$\\newcommand{\\bx}{\\mathbf{x}}$\n",
    "$\\newcommand{\\bw}{\\mathbf{w}}$\n",
    "$\\newcommand{\\bt}{\\mathbf{t}}$\n",
    "$\\newcommand{\\by}{\\mathbf{y}}$\n",
    "$\\newcommand{\\bm}{\\mathbf{m}}$\n",
    "$\\newcommand{\\bb}{\\mathbf{b}}$\n",
    "$\\newcommand{\\bS}{\\mathbf{S}}$\n",
    "$\\newcommand{\\ba}{\\mathbf{a}}$\n",
    "$\\newcommand{\\bz}{\\mathbf{z}}$\n",
    "$\\newcommand{\\bv}{\\mathbf{v}}$\n",
    "$\\newcommand{\\bq}{\\mathbf{q}}$\n",
    "$\\newcommand{\\bp}{\\mathbf{p}}$\n",
    "$\\newcommand{\\bh}{\\mathbf{h}}$\n",
    "$\\newcommand{\\bI}{\\mathbf{I}}$\n",
    "$\\newcommand{\\bX}{\\mathbf{X}}$\n",
    "$\\newcommand{\\bT}{\\mathbf{T}}$\n",
    "$\\newcommand{\\bPhi}{\\mathbf{\\Phi}}$\n",
    "$\\newcommand{\\bW}{\\mathbf{W}}$\n",
    "$\\newcommand{\\bV}{\\mathbf{V}}$"
   ]
  },
  {
   "cell_type": "code",
   "execution_count": 1,
   "metadata": {
    "collapsed": false
   },
   "outputs": [
    {
     "name": "stdout",
     "output_type": "stream",
     "text": [
      "Populating the interactive namespace from numpy and matplotlib\n"
     ]
    }
   ],
   "source": [
    "%pylab inline\n",
    "import gzip, cPickle"
   ]
  },
  {
   "cell_type": "markdown",
   "metadata": {},
   "source": [
    "# Part 1. Multiclass logistic regression\n",
    "\n",
    "Scenario: you have a friend with one big problem: she's completely blind. You decided to help her: she has a special smartphone for blind people, and you are going to develop a mobile phone app that can do _machine vision_ using the mobile camera: converting a picture (from the camera) to the meaning of the image. You decide to start with an app that can read handwritten digits, i.e. convert an image of handwritten digits to text (e.g. it would enable her to read precious handwritten phone numbers).\n",
    "\n",
    "A key building block for such an app would be a function `predict_digit(x)` that returns the digit class of an image patch $\\bx$. Since hand-coding this function is highly non-trivial, you decide to solve this problem using machine learning, such that the internal parameters of this function are automatically learned using machine learning techniques.\n",
    "\n",
    "The dataset you're going to use for this is the MNIST handwritten digits dataset (`http://yann.lecun.com/exdb/mnist/`). You can load the data from `mnist.pkl.gz` we provided, using: "
   ]
  },
  {
   "cell_type": "code",
   "execution_count": 2,
   "metadata": {
    "collapsed": false,
    "scrolled": true
   },
   "outputs": [],
   "source": [
    "def load_mnist():\n",
    "    f = gzip.open('mnist.pkl.gz', 'rb')\n",
    "    data = cPickle.load(f)\n",
    "    f.close()\n",
    "    return data\n",
    "\n",
    "(x_train, t_train), (x_valid, t_valid), (x_test, t_test) = load_mnist()\n"
   ]
  },
  {
   "cell_type": "markdown",
   "metadata": {},
   "source": [
    "The tuples represent train, validation and test sets. The first element (`x_train`, `x_valid`, `x_test`) of each tuple is a $N \\times M$ matrix, where $N$ is the number of datapoints and $M = 28^2 = 784$ is the dimensionality of the data. The second element (`t_train`, `t_valid`, `t_test`) of each tuple is the corresponding $N$-dimensional vector of integers, containing the true class labels.\n",
    "\n",
    "Here's a visualisation of the first 8 digits of the trainingset:"
   ]
  },
  {
   "cell_type": "code",
   "execution_count": 3,
   "metadata": {
    "collapsed": false
   },
   "outputs": [
    {
     "data": {
      "image/png": "[encoded data removed]",
      "text/plain": [
       "<matplotlib.figure.Figure at 0x7f59a1ef1d10>"
      ]
     },
     "metadata": {},
     "output_type": "display_data"
    }
   ],
   "source": [
    "def plot_digits(data, numcols, shape=(28,28)):\n",
    "    numdigits = data.shape[0]\n",
    "    numrows = int(numdigits/numcols)\n",
    "    for i in range(numdigits):\n",
    "        plt.subplot(numrows, numcols, i)\n",
    "        plt.axis('off')\n",
    "        plt.imshow(data[i].reshape(shape), interpolation='nearest', cmap='Greys')\n",
    "    plt.show()\n",
    "    \n",
    "plot_digits(x_train[0:8], numcols=4)"
   ]
  },
  {
   "cell_type": "markdown",
   "metadata": {},
   "source": [
    "In _multiclass_ logistic regression, the conditional probability of class label $j$ given the image $\\bx$ for some datapoint is given by:\n",
    "\n",
    "$ \\log p(t = j \\;|\\; \\bx, \\bb, \\bW) = \\log q_j - \\log Z$\n",
    "\n",
    "where $\\log q_j = w_j^T x + b_j$ (the log of the unnormalized probability of the class $j$), and $Z = \\sum_k q_k$ is the normalizing factor. $\\bw_j$ is the $j$-th column of $\\bW$ (a matrix of size $784 \\times 10$) corresponding to the class label, $b_j$ is the $j$-th element of $\\bb$.\n",
    "\n",
    "Given an input image, the multiclass logistic regression model first computes the intermediate vector $\\log \\bq$ (of size $10 \\times 1$), using $\\log q_j = \\bw_j^T \\bx + b_j$, containing the unnormalized log-probabilities per class. \n",
    "\n",
    "The unnormalized probabilities are then normalized by $Z$ such that $\\sum_j p_j = \\sum_j \\exp(\\log p_j) = 1$. This is done by $\\log p_j = \\log q_j - \\log Z$ where $Z = \\sum_j \\exp(\\log q_j)$. This is known as the _softmax_ transformation, and is also used as a last layer of many classifcation neural network models, to ensure that the output of the network is a normalized distribution, regardless of the values of second-to-last layer ($\\log \\bq$)\n",
    "\n",
    "Warning: when computing $\\log Z$, you are likely to encounter numerical problems. Save yourself countless hours of debugging and learn the [log-sum-exp trick](https://hips.seas.harvard.edu/blog/2013/01/09/computing-log-sum-exp/ \"Title\").\n",
    "\n",
    "The network's output $\\log \\bp$ of size $10 \\times 1$ then contains the conditional log-probabilities $\\log p(t = j \\;|\\; \\bx, \\bb, \\bW)$ for each digit class $j$. In summary, the computations are done in this order:\n",
    "\n",
    "$\\bx \\rightarrow \\log \\bq \\rightarrow Z \\rightarrow \\log \\bp$\n",
    "\n",
    "Given some dataset with $N$ independent, identically distributed datapoints, the log-likelihood is given by:\n",
    "\n",
    "$ \\mathcal{L}(\\bb, \\bW) = \\sum_{n=1}^N \\mathcal{L}^{(n)}$\n",
    "\n",
    "where we use $\\mathcal{L}^{(n)}$ to denote the partial log-likelihood evaluated over a single datapoint. It is important to see that the log-probability of the class label $t^{(n)}$ given the image, is given by the $t^{(n)}$-th element of the network's output $\\log \\bp$, denoted by $\\log p_{t^{(n)}}$:\n",
    "\n",
    "$\\mathcal{L}^{(n)} = \\log p(t = t^{(n)} \\;|\\; \\bx = \\bx^{(n)}, \\bb, \\bW) = \\log p_{t^{(n)}} = \\log q_{t^{(n)}} - \\log Z^{(n)}$\n",
    "\n",
    "where $\\bx^{(n)}$ and $t^{(n)}$ are the input (image) and class label (integer) of the $n$-th datapoint, and $Z^{(n)}$ is the normalizing constant for the distribution over $t^{(n)}$.\n"
   ]
  },
  {
   "cell_type": "markdown",
   "metadata": {},
   "source": [
    "## 1.1 Gradient-based stochastic optimization\n",
    "\n",
    "### 1.1.1 Derive gradient equations (20 points)\n",
    "\n",
    "Derive the equations for computing the (first) partial derivatives of the log-likelihood w.r.t. all the parameters, evaluated at a _single_ datapoint $n$.\n",
    "\n",
    "You should start deriving the equations for $\\frac{\\partial \\mathcal{L}^{(n)}}{\\partial \\log q_j}$ for each $j$. For clarity, we'll use the shorthand $\\delta^q_j = \\frac{\\partial \\mathcal{L}^{(n)}}{\\partial \\log q_j}$.\n",
    "\n",
    "For $j = t^{(n)}$:\n",
    "$\n",
    "\\delta^q_j\n",
    "= \\frac{\\partial \\mathcal{L}^{(n)}}{\\partial \\log p_j}\n",
    "\\frac{\\partial \\log p_j}{\\partial \\log q_j}\n",
    "+ \\frac{\\partial \\mathcal{L}^{(n)}}{\\partial \\log Z}\n",
    "\\frac{\\partial \\log Z}{\\partial Z} \n",
    "\\frac{\\partial Z}{\\partial \\log q_j} \n",
    "= 1 \\cdot 1 - \\frac{\\partial \\log Z}{\\partial Z} \n",
    "\\frac{\\partial Z}{\\partial \\log q_j}\n",
    "= 1 - \\frac{\\partial \\log Z}{\\partial Z} \n",
    "\\frac{\\partial Z}{\\partial \\log q_j}\n",
    "$\n",
    "\n",
    "For $j \\neq t^{(n)}$:\n",
    "$\n",
    "\\delta^q_j\n",
    "= \\frac{\\partial \\mathcal{L}^{(n)}}{\\partial \\log Z}\n",
    "\\frac{\\partial \\log Z}{\\partial Z} \n",
    "\\frac{\\partial Z}{\\partial \\log q_j} \n",
    "= - \\frac{\\partial \\log Z}{\\partial Z} \n",
    "\\frac{\\partial Z}{\\partial \\log q_j}\n",
    "$\n",
    "\n",
    "Complete the above derivations for $\\delta^q_j$ by furtherly developing $\\frac{\\partial \\log Z}{\\partial Z}$ and $\\frac{\\partial Z}{\\partial \\log q_j}$. Both are quite simple. For these it doesn't matter whether $j = t^{(n)}$ or not.\n",
    "\n",
    "Given your equations for computing the gradients $\\delta^q_j$ it should be quite straightforward to derive the equations for the gradients of the parameters of the model, $\\frac{\\partial \\mathcal{L}^{(n)}}{\\partial W_{ij}}$ and $\\frac{\\partial \\mathcal{L}^{(n)}}{\\partial b_j}$. The gradients for the biases $\\bb$ are given by:\n",
    "\n",
    "$\n",
    "\\frac{\\partial \\mathcal{L}^{(n)}}{\\partial b_j}\n",
    "= \\frac{\\partial \\mathcal{L}^{(n)}}{\\partial \\log q_j}\n",
    "\\frac{\\partial \\log q_j}{\\partial b_j}\n",
    "= \\delta^q_j\n",
    "\\cdot 1\n",
    "= \\delta^q_j\n",
    "$\n",
    "\n",
    "The equation above gives the derivative of $\\mathcal{L}^{(n)}$ w.r.t. a single element of $\\bb$, so the vector $\\nabla_\\bb \\mathcal{L}^{(n)}$ with all derivatives of $\\mathcal{L}^{(n)}$ w.r.t. the bias parameters $\\bb$ is: \n",
    "\n",
    "$\n",
    "\\nabla_\\bb \\mathcal{L}^{(n)} = \\mathbf{\\delta}^q\n",
    "$\n",
    "\n",
    "where $\\mathbf{\\delta}^q$ denotes the vector of size $10 \\times 1$ with elements $\\mathbf{\\delta}_j^q$.\n",
    "\n",
    "The (not fully developed) equation for computing the derivative of $\\mathcal{L}^{(n)}$ w.r.t. a single element $W_{ij}$ of $\\bW$ is:\n",
    "\n",
    "$\n",
    "\\frac{\\partial \\mathcal{L}^{(n)}}{\\partial W_{ij}} =\n",
    "\\frac{\\partial \\mathcal{L}^{(n)}}{\\partial \\log q_j}\n",
    "\\frac{\\partial \\log q_j}{\\partial W_{ij}}\n",
    "= \\mathbf{\\delta}_j^q\n",
    "\\frac{\\partial \\log q_j}{\\partial W_{ij}}\n",
    "$\n",
    "\n",
    "What is $\\frac{\\partial \\log q_j}{\\partial W_{ij}}$? Complete the equation above.\n",
    "\n",
    "If you want, you can give the resulting equation in vector format ($\\nabla_{\\bw_j} \\mathcal{L}^{(n)} = ...$), like we did for $\\nabla_\\bb \\mathcal{L}^{(n)}$.\n",
    "\n",
    "#####Answer: "
   ]
  },
  {
   "cell_type": "markdown",
   "metadata": {},
   "source": [
    "$$\\nabla_{w_j} \\mathcal{L}^{(n)} = \\delta^q_j \\frac{\\partial \\log q_j}{\\partial W_j} = \\delta^q_j \\cdot x$$"
   ]
  },
  {
   "cell_type": "markdown",
   "metadata": {},
   "source": [
    "### 1.1.2 Implement gradient computations (10 points)\n",
    "\n",
    "Implement the gradient calculations you derived in the previous question. Write a function `logreg_gradient(x, t, w, b)` that returns the gradients $\\nabla_{w_j} \\mathcal{L}^{(n)}$ (for each $j$) and $\\nabla_{b} \\mathcal{L}^{(n)}$, i.e. the first partial derivatives of the log-likelihood w.r.t. the parameters $W$ and $b$, evaluated at a single datapoint (`x`, `t`).\n",
    "The computation will contain roughly the following intermediate variables:\n",
    "\n",
    "$\n",
    "\\log q \\rightarrow Z \\rightarrow \\log p\\,,\\, \\mathbf{\\delta}^q\n",
    "$\n",
    "\n",
    "followed by computation of the gradient vectors $\\nabla_{w_j} \\mathcal{L}^{(n)}$ (contained in a $784 \\times 10$ matrix) and $\\nabla_{b} \\mathcal{L}^{(n)}$ (a $10 \\times 1$ vector).\n"
   ]
  },
  {
   "cell_type": "code",
   "execution_count": 4,
   "metadata": {
    "collapsed": false
   },
   "outputs": [
    {
     "data": {
      "image/png": "[encoded data removed]",
      "text/plain": [
       "<matplotlib.figure.Figure at 0x7f59a198bf90>"
      ]
     },
     "metadata": {},
     "output_type": "display_data"
    },
    {
     "name": "stdout",
     "output_type": "stream",
     "text": [
      "[[ 0.9]\n",
      " [-0.1]\n",
      " [-0.1]\n",
      " [-0.1]\n",
      " [-0.1]\n",
      " [-0.1]\n",
      " [-0.1]\n",
      " [-0.1]\n",
      " [-0.1]\n",
      " [-0.1]]\n"
     ]
    }
   ],
   "source": [
    "#log q_j=w^T_j * x+b_j\n",
    "\n",
    "def get_log_p(x,t,w,b):\n",
    "    #print 'w.shape:', w.shape\n",
    "    #print 'x.shape:', x.shape\n",
    "    #print 'b.shape:', b.shape\n",
    "    log_q = np.dot(w.T, x) +b #note: log_q isn't a log(...)???\n",
    "    #print 'log_q.shape:', log_q.shape\n",
    "    \n",
    "    Z = np.sum(np.exp(log_q))\n",
    "    a = np.max(log_q)\n",
    "    Za = np.sum(np.exp(log_q - a))\n",
    "    log_Z = ( a + np.log(Za))\n",
    "    log_p = log_q -log_Z\n",
    "    return Z, log_q, log_p[t][0]\n",
    "    \n",
    "\n",
    "def logreg_gradient(x,t,w,b):\n",
    "    x = x.reshape((-1, 1))\n",
    "    b = b.reshape((-1, 1))\n",
    "    Z, log_q, log_p = get_log_p(x,t,w,b)\n",
    "    #print 'log_p.shape:', log_p.shape\n",
    "    delta_q = -1/Z * np.exp(log_q)\n",
    "#     print 'delta_q.shape:', delta_q.shape\n",
    "    delta_q[t] +=1\n",
    "    nabla_W = delta_q.T * x\n",
    "    nabla_b = delta_q\n",
    "    \n",
    "    return nabla_W, nabla_b, log_p\n",
    "    \n",
    "W = np.zeros((784, 10))\n",
    "b = np.zeros(10)\n",
    "nabla_W, nabla_b, log_p = logreg_gradient(x_train[1], t_train[1], W, b) \n",
    "# print nabla_W\n",
    "plot_digits(nabla_W.T, numcols=5)\n",
    "print nabla_b\n",
    "\n"
   ]
  },
  {
   "cell_type": "markdown",
   "metadata": {},
   "source": [
    "\n",
    "### 1.1.3 Stochastic gradient descent (10 points)\n",
    "\n",
    "Write a function `sgd_iter(x_train, t_train, w, b)` that performs one iteration of stochastic gradient descent (SGD), and returns the new weights. It should go through the trainingset once in randomized order, call `logreg_gradient(x, t, w, b)` for each datapoint to get the gradients, and update the parameters using a small learning rate (e.g. `1E-4`). Note that in this case we're maximizing the likelihood function, so we should actually performing gradient ___ascent___... For more information about SGD, see Bishop 5.2.4 or an online source (i.e. https://en.wikipedia.org/wiki/Stochastic_gradient_descent)"
   ]
  },
  {
   "cell_type": "code",
   "execution_count": 5,
   "metadata": {
    "collapsed": false
   },
   "outputs": [
    {
     "data": {
      "image/png": "[encoded data removed]",
      "text/plain": [
       "<matplotlib.figure.Figure at 0x7f59a125a890>"
      ]
     },
     "metadata": {},
     "output_type": "display_data"
    },
    {
     "data": {
      "image/png": "[encoded data removed]",
      "text/plain": [
       "<matplotlib.figure.Figure at 0x7f59a1c2df10>"
      ]
     },
     "metadata": {},
     "output_type": "display_data"
    }
   ],
   "source": [
    "import pprint\n",
    "def sgd_iter(x_train, t_train, w, b):\n",
    "    wIn = w.copy()\n",
    "    learn_rate = 1e-5\n",
    "    b = b.reshape((-1, 1))\n",
    "    perm = np.random.permutation(x_train.shape[0])\n",
    "    sum_log_p = 0\n",
    "    for i in perm:\n",
    "        nabla_W, nabla_b, log_p = logreg_gradient(x_train[i], t_train[i], w, b)\n",
    "        w += nabla_W * learn_rate\n",
    "        b += nabla_b * learn_rate\n",
    "        sum_log_p += log_p\n",
    "        \n",
    "    return w, b, sum_log_p\n",
    "        \n",
    "W = np.zeros((784, 10))\n",
    "b = np.zeros(10)\n",
    "\n",
    "for i in range(10):\n",
    "    if i ==1:\n",
    "        plot_digits(W.T, numcols=10)\n",
    "\n",
    "    W, b, _ = sgd_iter(x_train[:21], t_train[:21], W, b)   \n",
    "#     print np.min(W)\n",
    "\n",
    "plot_digits(W.T, numcols=10)\n"
   ]
  },
  {
   "cell_type": "markdown",
   "metadata": {},
   "source": [
    "## 1.2. Train\n",
    "\n",
    "### 1.2.1 Train (10 points)\n",
    "Perform a handful of training iterations through the trainingset. Plot (in one graph) the conditional log-probability of the trainingset and validation set after each iteration.\n"
   ]
  },
  {
   "cell_type": "code",
   "execution_count": 6,
   "metadata": {
    "collapsed": false
   },
   "outputs": [
    {
     "data": {
      "image/png": "[encoded data removed]",
      "text/plain": [
       "<matplotlib.figure.Figure at 0x7fcdc49aff90>"
      ]
     },
     "metadata": {},
     "output_type": "display_data"
    }
   ],
   "source": [
    "plot_list = []\n",
    "vplot_list = []\n",
    "\n",
    "def valid_log_p(x,t,W,b):\n",
    "    sum_vlog_p=0\n",
    "    for j in range(len(x)):\n",
    "        _,_,vlog_p = get_log_p(x[j],t[j],W,b)\n",
    "        sum_vlog_p+=vlog_p\n",
    "    return sum_vlog_p\n",
    "W = np.zeros((784, 10))\n",
    "b = np.zeros(10)\n",
    "\n",
    "for i in range(150):\n",
    "#     plot_digits(W.T, numcols=10)\n",
    "    W, b, log_p = sgd_iter(x_train[:1000], t_train[:1000], W, b)\n",
    "    plot_list.append(log_p)\n",
    "#     plot_digits(W.T, numcols=10)\n",
    "    sum_vlog_p=valid_log_p(x_valid[:1000], t_valid[:1000], W, b)\n",
    "    vplot_list.append(sum_vlog_p)\n",
    "plt.plot(plot_list, label='Train set')\n",
    "plt.plot(vplot_list, label=\"Validation set\")\n",
    "plt.ylabel('error')\n",
    "plt.xlabel('iteration')\n",
    "plt.legend(bbox_to_anchor=(1.05, 1), loc=2, borderaxespad=0.)\n",
    "\n",
    "plt.show()"
   ]
  },
  {
   "cell_type": "markdown",
   "metadata": {},
   "source": [
    "We choose a learning rate of 1e-5, now you can see in the graph that the errors of the training AND validation are decreasing and after a few iteration the validation error starts increasing."
   ]
  },
  {
   "cell_type": "markdown",
   "metadata": {},
   "source": [
    "### 1.2.2 Visualize weights (10 points)\n",
    "Visualize the resulting parameters $\\bW$ after a few iterations through the training set, by treating each column of $\\bW$ as an image. If you want, you can use or edit the `plot_digits(...)` above."
   ]
  },
  {
   "cell_type": "code",
   "execution_count": 6,
   "metadata": {
    "collapsed": false
   },
   "outputs": [
    {
     "name": "stdout",
     "output_type": "stream",
     "text": [
      "[  0.00000000e+00   0.00000000e+00   0.00000000e+00   0.00000000e+00\n",
      "   0.00000000e+00   0.00000000e+00   0.00000000e+00   0.00000000e+00\n",
      "   0.00000000e+00   0.00000000e+00   0.00000000e+00   0.00000000e+00\n",
      "   0.00000000e+00   0.00000000e+00   0.00000000e+00   0.00000000e+00\n",
      "   0.00000000e+00   0.00000000e+00   0.00000000e+00   0.00000000e+00\n",
      "   0.00000000e+00   0.00000000e+00   0.00000000e+00   0.00000000e+00\n",
      "   0.00000000e+00   0.00000000e+00   0.00000000e+00   0.00000000e+00\n",
      "   0.00000000e+00   0.00000000e+00   0.00000000e+00   0.00000000e+00\n",
      "   0.00000000e+00   0.00000000e+00   0.00000000e+00   0.00000000e+00\n",
      "   0.00000000e+00   0.00000000e+00   0.00000000e+00   0.00000000e+00\n",
      "   0.00000000e+00   0.00000000e+00   0.00000000e+00   0.00000000e+00\n",
      "   0.00000000e+00   0.00000000e+00   0.00000000e+00   0.00000000e+00\n",
      "   0.00000000e+00   0.00000000e+00   0.00000000e+00   0.00000000e+00\n",
      "   0.00000000e+00   0.00000000e+00   0.00000000e+00   0.00000000e+00\n",
      "   0.00000000e+00   0.00000000e+00   0.00000000e+00   0.00000000e+00\n",
      "   0.00000000e+00   0.00000000e+00   0.00000000e+00   0.00000000e+00\n",
      "   0.00000000e+00   0.00000000e+00   0.00000000e+00   0.00000000e+00\n",
      "   0.00000000e+00   0.00000000e+00   0.00000000e+00   0.00000000e+00\n",
      "  -1.48215242e-06  -8.65889043e-06  -8.77590246e-06   0.00000000e+00\n",
      "   0.00000000e+00   0.00000000e+00   0.00000000e+00   0.00000000e+00\n",
      "   0.00000000e+00   0.00000000e+00   0.00000000e+00   0.00000000e+00\n",
      "   0.00000000e+00   0.00000000e+00   0.00000000e+00   0.00000000e+00\n",
      "   0.00000000e+00   0.00000000e+00   0.00000000e+00   0.00000000e+00\n",
      "   0.00000000e+00   0.00000000e+00   0.00000000e+00   0.00000000e+00\n",
      "   0.00000000e+00   0.00000000e+00   0.00000000e+00  -5.73358961e-06\n",
      "  -1.04538420e-05  -1.64245015e-05  -1.66213490e-05  -1.56106289e-06\n",
      "   0.00000000e+00   0.00000000e+00   0.00000000e+00   0.00000000e+00\n",
      "   0.00000000e+00   0.00000000e+00   0.00000000e+00   0.00000000e+00\n",
      "   0.00000000e+00   0.00000000e+00   0.00000000e+00   0.00000000e+00\n",
      "   0.00000000e+00   0.00000000e+00   0.00000000e+00   0.00000000e+00\n",
      "   0.00000000e+00   0.00000000e+00   0.00000000e+00  -1.63739201e-06\n",
      "  -1.02535637e-05  -1.93768829e-05  -2.23818724e-05  -1.23039011e-08\n",
      "   3.20199872e-05   7.04853756e-05   4.21677890e-05   1.59389721e-05\n",
      "   0.00000000e+00   0.00000000e+00  -7.36858901e-06  -7.40757626e-06\n",
      "   0.00000000e+00   0.00000000e+00   0.00000000e+00   0.00000000e+00\n",
      "   0.00000000e+00   0.00000000e+00   0.00000000e+00  -9.74393036e-07\n",
      "  -4.83356598e-06  -3.93716878e-06  -5.53563072e-06  -6.04241381e-06\n",
      "  -9.58989547e-06  -7.09496332e-06  -1.00579228e-05  -2.18720422e-05\n",
      "  -4.16049200e-05  -5.76732775e-05  -4.98859969e-05   2.86383766e-05\n",
      "   4.52215522e-05   5.90730879e-05   5.24859745e-05   5.69978335e-05\n",
      "  -3.38852307e-05  -3.61911688e-05  -2.20346985e-05  -1.09196086e-05\n",
      "   0.00000000e+00   0.00000000e+00   0.00000000e+00   0.00000000e+00\n",
      "   0.00000000e+00   0.00000000e+00   0.00000000e+00  -1.05235675e-05\n",
      "  -2.21408145e-05  -1.74654506e-05  -9.90176199e-06  -9.90176199e-06\n",
      "  -1.10721306e-05  -1.37623143e-05  -2.65532123e-05  -4.43721725e-05\n",
      "  -6.32088312e-05  -6.97737801e-05  -1.47326252e-05   1.01666451e-05\n",
      "   2.56935871e-05   2.41663839e-05   2.89629321e-05   4.30506819e-05\n",
      "  -3.08090017e-05  -4.09406171e-05  -1.96162683e-05  -5.84968926e-06\n",
      "   0.00000000e+00   0.00000000e+00   0.00000000e+00   0.00000000e+00\n",
      "   0.00000000e+00   0.00000000e+00   0.00000000e+00  -1.37201993e-05\n",
      "  -2.46377817e-05  -2.56137164e-05  -1.29802902e-05  -1.10726810e-05\n",
      "  -1.66527706e-05  -3.21327420e-05  -3.62652010e-05  -3.76602709e-05\n",
      "  -5.15111801e-05  -2.84545926e-05  -1.93502411e-05  -2.14137501e-06\n",
      "  -3.38992626e-06  -2.51388726e-05  -4.98906878e-05   2.43736031e-05\n",
      "   2.80306705e-05   1.55575075e-06  -1.84464841e-05  -9.13066854e-06\n",
      "  -9.13066854e-06  -6.20417221e-06   0.00000000e+00   0.00000000e+00\n",
      "   0.00000000e+00   0.00000000e+00   0.00000000e+00  -6.50828602e-06\n",
      "  -2.12882057e-05  -1.75439949e-05  -1.06389695e-05  -3.70317705e-06\n",
      "  -1.12349589e-05  -2.45713514e-05  -3.21311733e-05   1.48781099e-05\n",
      "  -8.63691246e-07  -3.12869305e-05  -7.99852102e-06   8.42464378e-06\n",
      "   1.04848171e-05  -1.46224606e-05  -6.34899025e-05  -1.73857110e-05\n",
      "   1.61744479e-05   1.19463726e-05  -1.40041202e-05  -9.87204761e-06\n",
      "  -9.87204761e-06  -8.38928947e-06   0.00000000e+00   0.00000000e+00\n",
      "   0.00000000e+00   0.00000000e+00   0.00000000e+00  -3.85790249e-06\n",
      "  -1.84814706e-05  -1.61795789e-05  -9.82011544e-06  -7.05333688e-06\n",
      "  -7.64494395e-06  -2.60933708e-05  -2.40310008e-05   2.33788696e-05\n",
      "  -8.82433419e-06  -1.82636433e-05  -1.40416534e-05  -6.05199623e-06\n",
      "   3.44207479e-05  -1.00447474e-05  -8.28663898e-05  -6.91603928e-05\n",
      "   1.92945622e-05   2.58260688e-05  -6.12583512e-06  -3.82395520e-06\n",
      "  -3.12159608e-07   0.00000000e+00   0.00000000e+00   0.00000000e+00\n",
      "   0.00000000e+00   0.00000000e+00   0.00000000e+00  -1.91160135e-06\n",
      "  -1.44297918e-05  -1.61795789e-05  -9.82011544e-06  -1.24726738e-05\n",
      "  -1.29077334e-05  -7.77268442e-06   3.88611909e-05   2.08120024e-05\n",
      "   4.85974898e-06  -1.49906304e-05  -4.92437145e-05  -2.42900912e-05\n",
      "  -1.03034814e-05  -6.86525562e-05  -1.00476980e-04  -9.15072972e-05\n",
      "   3.74657113e-05   6.58459068e-05   1.75766416e-05   0.00000000e+00\n",
      "   0.00000000e+00   0.00000000e+00   0.00000000e+00   0.00000000e+00\n",
      "   0.00000000e+00   0.00000000e+00   0.00000000e+00  -4.68181360e-06\n",
      "  -1.04943695e-05  -1.47767053e-05  -9.82011544e-06  -1.70756427e-05\n",
      "  -1.03092157e-05   3.10936667e-05   5.22807856e-05   1.82622133e-05\n",
      "   4.91550087e-06  -4.28445751e-05  -5.71304550e-05  -6.00167371e-05\n",
      "  -5.44305951e-05  -8.09399361e-05  -9.71975732e-05  -8.55054061e-05\n",
      "   4.81490008e-05   8.59340500e-05   5.80029173e-05   0.00000000e+00\n",
      "   0.00000000e+00   0.00000000e+00   0.00000000e+00   0.00000000e+00\n",
      "   0.00000000e+00   0.00000000e+00   0.00000000e+00  -6.20340302e-06\n",
      "  -9.90983878e-06  -1.07999014e-05  -1.25506902e-05  -2.17122335e-05\n",
      "   3.25508947e-05   5.98051734e-05   5.14510238e-05  -3.87589404e-05\n",
      "  -5.96846045e-05  -7.14642540e-05  -7.47899992e-05  -8.25804676e-05\n",
      "  -7.60243270e-05  -9.92260095e-05  -9.40846761e-05  -7.51385712e-05\n",
      "   5.33712288e-05   8.65581261e-05   6.85489023e-05   0.00000000e+00\n",
      "   0.00000000e+00   0.00000000e+00   0.00000000e+00   0.00000000e+00\n",
      "   0.00000000e+00   0.00000000e+00   0.00000000e+00  -6.20340302e-06\n",
      "  -9.90983878e-06  -6.51088380e-06  -1.76604899e-05  -8.65871567e-06\n",
      "   5.61460626e-05   5.72338407e-05  -1.82929202e-05  -7.58012917e-05\n",
      "  -7.11926281e-05  -1.02353995e-04  -1.23875206e-04  -1.26761689e-04\n",
      "  -1.20677753e-04  -1.15653005e-04  -9.38963331e-05  -5.63860766e-05\n",
      "   7.09571484e-05   8.08244755e-05   6.73397779e-05   0.00000000e+00\n",
      "   0.00000000e+00   0.00000000e+00   0.00000000e+00   0.00000000e+00\n",
      "   0.00000000e+00   0.00000000e+00   0.00000000e+00  -6.20340302e-06\n",
      "  -9.90983878e-06  -3.31628463e-06  -1.04863514e-05   4.12590106e-05\n",
      "   5.20932408e-05   2.46467306e-05  -5.36930997e-05  -8.30114229e-05\n",
      "  -1.00043097e-04  -1.33150729e-04  -1.52582866e-04  -1.45090641e-04\n",
      "  -1.28435956e-04  -1.06370448e-04  -8.83233887e-05  -3.92665980e-05\n",
      "   6.88966863e-05   7.97333153e-05   6.69112330e-05  -2.61326045e-06\n",
      "  -4.83648203e-06  -1.52115161e-06   0.00000000e+00   0.00000000e+00\n",
      "   0.00000000e+00   0.00000000e+00   0.00000000e+00  -5.85226700e-06\n",
      "  -9.87082367e-06  -9.24658186e-06   1.61070446e-05   5.31398022e-05\n",
      "   3.92616207e-05  -2.23128596e-05  -7.30735864e-05  -7.64223366e-05\n",
      "  -9.60338697e-05  -1.28092425e-04  -1.37647197e-04  -1.35067580e-04\n",
      "  -1.08391636e-04  -8.82339665e-05  -8.16915861e-05  -6.20048793e-05\n",
      "   5.72774362e-05   6.72940623e-05   4.31730179e-05  -9.90698738e-06\n",
      "  -9.39993685e-06  -6.24062197e-06   0.00000000e+00   0.00000000e+00\n",
      "   0.00000000e+00   0.00000000e+00   0.00000000e+00   0.00000000e+00\n",
      "  -4.64279848e-06  -6.90567506e-06   1.76732586e-05   5.50548200e-05\n",
      "   2.99673882e-05  -5.17267398e-05  -5.90321358e-05  -4.95524713e-05\n",
      "  -6.42185342e-05  -9.47200163e-05  -1.25450607e-04  -9.94311777e-05\n",
      "  -7.57197712e-05  -8.68700903e-05  -9.54496424e-05  -3.29168869e-05\n",
      "   5.54461330e-05   4.65126121e-05  -5.33513087e-06  -2.02820214e-06\n",
      "  -1.28712828e-06   0.00000000e+00   0.00000000e+00   0.00000000e+00\n",
      "   0.00000000e+00   0.00000000e+00   0.00000000e+00   0.00000000e+00\n",
      "   0.00000000e+00   0.00000000e+00   1.90418096e-05   4.62794006e-05\n",
      "   2.65298799e-05  -4.73356092e-05  -4.77268414e-05  -3.93398271e-05\n",
      "  -4.35573924e-05  -8.75541483e-05  -1.16912434e-04  -8.98797642e-05\n",
      "  -6.98734822e-05  -8.01255948e-05  -3.86798924e-05   2.38138001e-05\n",
      "   5.08330178e-05   7.88459524e-06  -8.57616568e-06  -1.91006097e-06\n",
      "  -1.91006097e-06   0.00000000e+00   0.00000000e+00   0.00000000e+00\n",
      "   0.00000000e+00   0.00000000e+00   0.00000000e+00   0.00000000e+00\n",
      "   0.00000000e+00  -1.16942508e-07   3.47642318e-06   4.67429996e-05\n",
      "   6.79401250e-06  -3.62603152e-05  -3.70885835e-05  -1.94980013e-05\n",
      "  -3.24890281e-05  -8.10004879e-05  -1.04390947e-04  -9.37061260e-05\n",
      "  -4.61822544e-05  -1.17559383e-05   3.35271601e-05   1.52685176e-05\n",
      "  -2.51016231e-05  -1.99586116e-05  -1.43452352e-05  -9.82317071e-06\n",
      "  -8.69272646e-06   0.00000000e+00   0.00000000e+00   0.00000000e+00\n",
      "   0.00000000e+00   0.00000000e+00   0.00000000e+00   0.00000000e+00\n",
      "   0.00000000e+00  -4.09298780e-06   4.80563508e-06   4.67442643e-05\n",
      "   3.98640140e-05  -3.78292858e-05  -4.10745051e-05  -3.07336637e-05\n",
      "  -5.38197557e-05  -8.71199072e-05  -1.07162822e-04  -4.89554674e-05\n",
      "   1.72942189e-05   3.21665190e-05   1.92478379e-06  -3.76672157e-05\n",
      "  -1.97218774e-05  -1.41114035e-05  -9.39453272e-06  -7.01655051e-06\n",
      "  -1.44229094e-06   0.00000000e+00   0.00000000e+00   0.00000000e+00\n",
      "   0.00000000e+00   0.00000000e+00   0.00000000e+00   0.00000000e+00\n",
      "   0.00000000e+00  -1.13822003e-05  -3.37637484e-06   3.86416180e-05\n",
      "   3.59477276e-05  -2.99570027e-06  -3.42231080e-05  -4.90512266e-05\n",
      "  -5.13518959e-05  -2.63006414e-05  -1.60170471e-05   3.30276044e-06\n",
      "   2.71556346e-05  -1.22604383e-06  -3.24885092e-05  -2.67033667e-05\n",
      "  -1.97218774e-05  -1.42656006e-05  -1.55874848e-07   0.00000000e+00\n",
      "   0.00000000e+00   0.00000000e+00   0.00000000e+00   0.00000000e+00\n",
      "   0.00000000e+00   0.00000000e+00   0.00000000e+00   0.00000000e+00\n",
      "   0.00000000e+00  -1.61763520e-05  -4.12223163e-07   3.96596378e-05\n",
      "   3.15112288e-05   2.05882564e-05   1.75195259e-05  -1.19346508e-05\n",
      "  -4.53558758e-06   2.44594777e-06   6.34428175e-06  -4.80113572e-06\n",
      "  -4.17254235e-06  -4.44937679e-05  -3.43888682e-05  -2.35063116e-05\n",
      "  -1.92540777e-05  -1.22760643e-05  -4.28655833e-07   0.00000000e+00\n",
      "   0.00000000e+00   0.00000000e+00   0.00000000e+00   0.00000000e+00\n",
      "   0.00000000e+00   0.00000000e+00   0.00000000e+00   0.00000000e+00\n",
      "   0.00000000e+00  -8.61406975e-06  -4.30684826e-06   2.74192514e-05\n",
      "   2.95174628e-05   2.05448552e-05   4.94840901e-06  -1.05352839e-05\n",
      "   1.39430204e-06   1.75230624e-05  -1.80914596e-05  -7.43258524e-05\n",
      "  -3.47813279e-05  -2.69052802e-05  -2.32415254e-05  -2.44440157e-05\n",
      "  -1.24319975e-05  -9.82011544e-06  -2.45502886e-06   0.00000000e+00\n",
      "   0.00000000e+00   0.00000000e+00   0.00000000e+00   0.00000000e+00\n",
      "   0.00000000e+00   0.00000000e+00   0.00000000e+00   0.00000000e+00\n",
      "  -2.14567574e-06  -8.62001047e-06  -1.49362433e-05  -1.65558539e-05\n",
      "   6.20272832e-06   2.70968556e-05   1.11891307e-05   5.92575548e-06\n",
      "   5.58743621e-07  -2.16916466e-05  -5.34984419e-05  -4.87037331e-05\n",
      "  -2.34706172e-05  -2.62033676e-05  -1.66931342e-05  -1.16205787e-05\n",
      "  -8.02755469e-06  -5.10490128e-06  -4.28655833e-07   0.00000000e+00\n",
      "   0.00000000e+00   0.00000000e+00   0.00000000e+00   0.00000000e+00\n",
      "   0.00000000e+00   0.00000000e+00   0.00000000e+00   0.00000000e+00\n",
      "  -5.30567093e-06  -9.87010841e-06  -1.01429509e-05  -1.45473788e-05\n",
      "  -2.52665816e-05  -4.82701301e-05  -5.48232230e-05  -3.45851831e-05\n",
      "  -1.00195432e-05  -8.81097319e-06  -2.40624017e-05  -2.80387416e-05\n",
      "  -1.20091057e-05  -7.29325358e-06  -9.90983878e-06  -5.96931234e-06\n",
      "   0.00000000e+00   0.00000000e+00   0.00000000e+00   0.00000000e+00\n",
      "   0.00000000e+00   0.00000000e+00   0.00000000e+00   0.00000000e+00\n",
      "   0.00000000e+00   0.00000000e+00   0.00000000e+00   0.00000000e+00\n",
      "   0.00000000e+00   0.00000000e+00   0.00000000e+00   0.00000000e+00\n",
      "  -9.47663727e-06  -1.96935185e-05  -1.62620639e-05  -1.79422200e-06\n",
      "   0.00000000e+00   0.00000000e+00  -5.45873422e-07  -7.17433640e-06\n",
      "  -9.82572159e-06  -6.62846298e-06  -4.28900546e-07   0.00000000e+00\n",
      "   0.00000000e+00   0.00000000e+00   0.00000000e+00   0.00000000e+00\n",
      "   0.00000000e+00   0.00000000e+00   0.00000000e+00   0.00000000e+00\n",
      "   0.00000000e+00   0.00000000e+00   0.00000000e+00   0.00000000e+00\n",
      "   0.00000000e+00   0.00000000e+00   0.00000000e+00  -2.10524213e-06\n",
      "  -1.15023502e-05  -1.48592588e-05  -4.17325572e-06   0.00000000e+00\n",
      "   0.00000000e+00   0.00000000e+00   0.00000000e+00  -5.45873422e-07\n",
      "  -5.73167093e-06  -9.82572159e-06  -1.63762027e-06   0.00000000e+00\n",
      "   0.00000000e+00   0.00000000e+00   0.00000000e+00   0.00000000e+00\n",
      "   0.00000000e+00   0.00000000e+00   0.00000000e+00   0.00000000e+00\n",
      "   0.00000000e+00   0.00000000e+00   0.00000000e+00   0.00000000e+00\n",
      "   0.00000000e+00   0.00000000e+00   0.00000000e+00   0.00000000e+00\n",
      "   0.00000000e+00   0.00000000e+00   0.00000000e+00   0.00000000e+00\n",
      "   0.00000000e+00   0.00000000e+00   0.00000000e+00   0.00000000e+00\n",
      "   0.00000000e+00   0.00000000e+00   0.00000000e+00   0.00000000e+00\n",
      "   0.00000000e+00   0.00000000e+00   0.00000000e+00   0.00000000e+00\n",
      "   0.00000000e+00   0.00000000e+00   0.00000000e+00   0.00000000e+00]\n"
     ]
    },
    {
     "data": {
      "image/png": "[encoded data removed]",
      "text/plain": [
       "<matplotlib.figure.Figure at 0x7f59a1661f50>"
      ]
     },
     "metadata": {},
     "output_type": "display_data"
    }
   ],
   "source": [
    "print W.T[0]\n",
    "\n",
    "plot_digits(W.T, numcols=5)"
   ]
  },
  {
   "cell_type": "markdown",
   "metadata": {},
   "source": [
    "### 1.2.3. Visualize the 8 hardest and 8 easiest digits (10 points)\n",
    "Visualize the 8 digits in the validation set with the highest probability of the true class label under the model.\n",
    "Also plot the 8 digits that were assigned the lowest probability.\n",
    "Ask yourself if these results make sense."
   ]
  },
  {
   "cell_type": "code",
   "execution_count": 8,
   "metadata": {
    "collapsed": false
   },
   "outputs": [
    {
     "data": {
      "image/png": "[encoded data removed]",
      "text/plain": [
       "<matplotlib.figure.Figure at 0x7f59a1bcf510>"
      ]
     },
     "metadata": {},
     "output_type": "display_data"
    },
    {
     "data": {
      "image/png": "[encoded data removed]",
      "text/plain": [
       "<matplotlib.figure.Figure at 0x7f59a152fc50>"
      ]
     },
     "metadata": {},
     "output_type": "display_data"
    }
   ],
   "source": [
    "prob_list = [] #[[image, prob], [],...,[]]\n",
    "for i, image in enumerate(x_valid):\n",
    "    _,_,prob = get_log_p(x_valid[i],t_valid[i],W,b)\n",
    "    prob_list.append([image,prob, t_valid[i]])\n",
    "\n",
    "        \n",
    "# print prob_list[0][1]\n",
    "prob_list = sorted(prob_list,key=lambda x: x[1])\n",
    "n=8\n",
    "plot_digits( numpy.asarray([numpy.asarray(x[0]) for x in prob_list[:n]]), numcols=8)\n",
    "# print [x[2] for x in prob_list[:n]]\n",
    "plot_digits( numpy.asarray([numpy.asarray(x[0]) for x in prob_list[-n:]]), numcols=8)\n",
    "# print [x[2] for x in prob_list[-n:]]\n",
    "\n",
    "\n",
    "    "
   ]
  },
  {
   "cell_type": "markdown",
   "metadata": {},
   "source": [
    "Do these results make sense? Yes, the digits 7 and 1 are similar in the vertical line wich makes it harder to classify. All zeros are just a circle and therefore simple to classify"
   ]
  },
  {
   "cell_type": "markdown",
   "metadata": {},
   "source": [
    "# Part 2. Multilayer perceptron\n",
    "\n",
    "\n",
    "You discover that the predictions by the logistic regression classifier are not good enough for your application: the model is too simple. You want to increase the accuracy of your predictions by using a better model. For this purpose, you're going to use a multilayer perceptron (MLP), a simple kind of neural network. The perceptron wil have a single hidden layer $\\bh$ with $L$ elements. The parameters of the model are $\\bV$ (connections between input $\\bx$ and hidden layer $\\bh$), $\\ba$ (the biases/intercepts of $\\bh$), $\\bW$ (connections between $\\bh$ and $\\log q$) and $\\bb$ (the biases/intercepts of $\\log q$.\n",
    "\n",
    "The conditional probability of the class label $j$ is given by:\n",
    "\n",
    "$\\log p(t = j \\;|\\; \\bx, \\bb, \\bW) = \\log q_j - \\log Z$\n",
    "\n",
    "where $q_j$ are again the unnormalized probabilities per class, and $Z = \\sum_j q_j$ is again the probability normalizing factor. Each $q_j$ is computed using:\n",
    "\n",
    "$\\log q_j = \\bw_j^T \\bh + b_j$\n",
    "\n",
    "where $\\bh$ is a $L \\times 1$ vector with the hidden layer activations (of a hidden layer with size $L$), and $\\bw_j$ is the $j$-th column of $\\bW$ (a $L \\times 10$ matrix). Each element of the hidden layer is computed from the input vector $\\bx$ using:\n",
    "\n",
    "$h_j = \\sigma(\\bv_j^T \\bx + a_j)$\n",
    "\n",
    "where $\\bv_j$ is the $j$-th column of $\\bV$ (a $784 \\times L$ matrix), $a_j$ is the $j$-th element of $\\ba$, and $\\sigma(.)$ is the so-called sigmoid activation function, defined by:\n",
    "\n",
    "$\\sigma(x) = \\frac{1}{1 + \\exp(-x)}$\n",
    "\n",
    "Note that this model is almost equal to the multiclass logistic regression model, but with an extra 'hidden layer' $\\bh$. The activations of this hidden layer can be viewed as features computed from the input, where the feature transformation ($\\bV$ and $\\ba$) is learned.\n",
    "\n",
    "## 2.1 Derive gradient equations (20 points)\n",
    "\n",
    "State (shortly) why $\\nabla_{\\bb} \\mathcal{L}^{(n)}$ is equal to the earlier (multiclass logistic regression) case, and why $\\nabla_{\\bw_j} \\mathcal{L}^{(n)}$ is almost equal to the earlier case.\n",
    "\n",
    "Like in multiclass logistic regression, you should use intermediate variables $\\mathbf{\\delta}_j^q$. In addition, you should use intermediate variables $\\mathbf{\\delta}_j^h = \\frac{\\partial \\mathcal{L}^{(n)}}{\\partial h_j}$.\n",
    "\n",
    "Given an input image, roughly the following intermediate variables should be computed:\n",
    "\n",
    "$\n",
    "\\log \\bq \\rightarrow Z \\rightarrow \\log \\bp \\rightarrow \\mathbf{\\delta}^q \\rightarrow \\mathbf{\\delta}^h\n",
    "$\n",
    "\n",
    "where $\\mathbf{\\delta}_j^h = \\frac{\\partial \\mathcal{L}^{(n)}}{\\partial \\bh_j}$.\n",
    "\n",
    "Give the equations for computing $\\mathbf{\\delta}^h$, and for computing the derivatives of $\\mathcal{L}^{(n)}$ w.r.t. $\\bW$, $\\bb$, $\\bV$ and $\\ba$. \n",
    "\n",
    "You can use the convenient fact that $\\frac{\\partial}{\\partial x} \\sigma(x) = \\sigma(x) (1 - \\sigma(x))$.\n",
    "\n",
    "#####Answer: "
   ]
  },
  {
   "cell_type": "markdown",
   "metadata": {},
   "source": [
    "$\\frac{\\partial \\mathcal{L}^{(n)}}{\\partial w_j} = \\frac{\\partial \\mathcal{L}^{(n)}}{\\partial \\log q_j} \\frac{\\partial \\log q_j}{\\partial w_j}= \\delta^q_j \\cdot h$, in this formula, the role of $x$ has been taken over by $h$. This is because the role of the inputs $x$ has now been taken over by the non-linearity $h$.\n",
    "\n",
    "We have\n",
    "$\\frac{\\partial \\mathcal{L}^{(n)}}{\\partial b_j} = \\frac{\\partial \\mathcal{L}^{(n)}}{\\partial \\log q_j} \\frac{\\partial \\log q_j}{\\partial b_j} = \\delta^q_j \\cdot 1$ which is equal to the old formula. This because the bias on $b$ is not affected by the non-linearity $h$.\n",
    "\n",
    "$\\frac{\\partial \\mathcal{L}^{(n)}}{\\partial v_j} = \\frac{\\partial \\mathcal{L}^{(n)}}{\\partial \\log q_j} \\frac{\\partial \\log q_j}{\\partial v_j}= \\delta^q_j \\cdot w_j \\frac{\\partial h}{\\partial v_j} = \\delta^q_j \\cdot w_j \\sigma(v_j^\\top x + a_j)(1-\\sigma(v_j^\\top x + a_j)) \\cdot x$\n",
    "\n",
    "\n",
    "$\\frac{\\partial \\mathcal{L}^{(n)}}{\\partial a} = \\delta^q_j \\cdot w_j \\sigma(v^\\top x + a)(1-\\sigma(v^\\top x + a))$ "
   ]
  },
  {
   "cell_type": "markdown",
   "metadata": {},
   "source": [
    "## 2.2 MAP optimization (10 points)\n",
    "\n",
    "You derived equations for finding the _maximum likelihood_ solution of the parameters. Explain, in a few sentences, how you could extend this approach so that it optimizes towards a _maximum a posteriori_ (MAP) solution of the parameters, with a Gaussian prior on the parameters. \n",
    "\n",
    "#####Answer: "
   ]
  },
  {
   "cell_type": "markdown",
   "metadata": {},
   "source": [
    "For the MLE, we calculate $\\mathcal{L}^{(n)} = \\log p(t = t^{(n)} \\mid x = x^{(n)}, b, W)$, derive and set to 0 to find the maximum of the log-likelihood. \n",
    "\n",
    "For the MAP solution, we would derive $\\log p(t = t^{(n)} \\mid x = x^{(n)}, b, W, V, a) + \\log p(b, W, V, a)$, where $p(b,W, V, a)$ is the probability of those parametrs, according tho the priors, and set that to 0 and so on."
   ]
  },
  {
   "cell_type": "markdown",
   "metadata": {},
   "source": [
    "## 2.3. Implement and train a MLP (15 points)\n",
    "\n",
    "Implement a MLP model with a single hidden layer, and code to train the model."
   ]
  },
  {
   "cell_type": "code",
   "execution_count": 31,
   "metadata": {
    "collapsed": false
   },
   "outputs": [
    {
     "name": "stdout",
     "output_type": "stream",
     "text": [
      "delta_q.shape: (10, 1)\n",
      "h.shape: (11, 1)\n",
      "[[ 0.5]\n",
      " [ 0.5]\n",
      " [ 0.5]\n",
      " [ 0.5]\n",
      " [ 0.5]\n",
      " [ 0.5]\n",
      " [ 0.5]\n",
      " [ 0.5]\n",
      " [ 0.5]\n",
      " [ 0.5]\n",
      " [ 0.5]]\n",
      "(11, 1)\n",
      "(784, 11)\n"
     ]
    }
   ],
   "source": [
    "#log q_j=w^T_j * x+b_j\n",
    "\n",
    "def get_log_p2(x,t,w,b):\n",
    "    #print 'w.shape:', w.shape\n",
    "    #print 'x.shape:', x.shape\n",
    "    #print 'b.shape:', b.shape\n",
    "    log_q = np.dot(w.T, x) +b #note: log_q isn't a log(...)???\n",
    "    #print 'log_q.shape:', log_q.shape\n",
    "    \n",
    "    Z = np.sum(np.exp(log_q))\n",
    "    a = np.max(log_q)\n",
    "    Za = np.sum(np.exp(log_q - a))\n",
    "    log_Z = ( a + np.log(Za))\n",
    "    log_p = log_q -log_Z\n",
    "    return Z, log_q, log_p[t][0]\n",
    "\n",
    "def sigma(x):\n",
    "    return 1.0/(1+np.exp(-1*x))\n",
    "    \n",
    "\n",
    "def logreg_gradient2(x,t,W,b, V, a, L):\n",
    "    x = x.reshape((-1, 1))\n",
    "    b = b.reshape((-1, 1))\n",
    "    a = a.reshape((-1, 1))\n",
    "    h = sigma(np.dot(V.T, x) + a)\n",
    "    Z, log_q, log_p = get_log_p2(h,t,W,b)\n",
    "    #print 'log_p.shape:', log_p.shape\n",
    "    delta_q = -1/Z * np.exp(log_q)\n",
    "    print 'delta_q.shape:', delta_q.shape\n",
    "    print 'h.shape:', h.shape\n",
    "    delta_q[t] +=1\n",
    "    nabla_W = delta_q.T * h\n",
    "    nabla_b = delta_q\n",
    "    nabla_V = np.dot(W, delta_q).T * x * np.dot(h.T, (1- h))\n",
    "    nabla_a = np.dot(W, delta_q) * np.dot(h.T, (1- h))\n",
    "    \n",
    "    return nabla_W, nabla_b, nabla_V, nabla_a, log_p\n",
    "    \n",
    "L = 11\n",
    "W = np.zeros((L, 10))\n",
    "b = np.zeros(10)\n",
    "V = np.zeros((784, L))\n",
    "a = np.zeros(L)\n",
    "nabla_W, nabla_b, nabla_V, nabla_a, log_p = logreg_gradient2(x_train[1], t_train[1], W, b, V, a, L) \n",
    "#plot_digits(nabla_W.T, numcols=5)\n",
    "#print nabla_b\n",
    "    \n",
    "#def sgd_iter2():"
   ]
  },
  {
   "cell_type": "markdown",
   "metadata": {},
   "source": [
    "### 2.3.1. Less than 250 misclassifications on the test set (10 bonus points)\n",
    "\n",
    "You receive an additional 10 bonus points if you manage to train a model with very high accuracy: at most 2.5% misclasified digits on the test set. Note that the test set contains 10000 digits, so you model should misclassify at most 250 digits. This should be achievable with a MLP model with one hidden layer. See results of various models at : `http://yann.lecun.com/exdb/mnist/index.html`. To reach such a low accuracy, you probably need to have a very high $L$ (many hidden units), probably $L > 200$, and apply a strong Gaussian prior on the weights. In this case you are allowed to use the validation set for training.\n",
    "You are allowed to add additional layers, and use convolutional networks, although that is probably not required to reach 2.5% misclassifications."
   ]
  },
  {
   "cell_type": "code",
   "execution_count": null,
   "metadata": {
    "collapsed": false
   },
   "outputs": [],
   "source": []
  }
 ],
 "metadata": {
  "kernelspec": {
   "display_name": "Python 2",
   "language": "python",
   "name": "python2"
  },
  "language_info": {
   "codemirror_mode": {
    "name": "ipython",
    "version": 2
   },
   "file_extension": ".py",
   "mimetype": "text/x-python",
   "name": "python",
   "nbconvert_exporter": "python",
   "pygments_lexer": "ipython2",
   "version": "2.7.8"
  }
 },
 "nbformat": 4,
 "nbformat_minor": 0
}
