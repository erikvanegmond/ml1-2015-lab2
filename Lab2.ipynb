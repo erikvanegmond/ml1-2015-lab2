{
 "cells": [
  {
   "cell_type": "markdown",
   "metadata": {},
   "source": [
    "# Lab 2: Classification\n",
    "\n",
    "### Machine Learning 1, September 2015\n",
    "\n",
    "* The lab exercises should be made in groups of two, three or four people.\n",
    "* The deadline is October 4th (Sunday) 23:59.\n",
    "* Assignment should be sent to Philip Versteeg (p.j.j.p.versteeg@uva.nl). The subject line of your email should be \"lab\\#\\_lastname1\\_lastname2\\_lastname3\".\n",
    "* Put your and your teammates' names in the body of the email\n",
    "* Attach the .IPYNB (IPython Notebook) file containing your code and answers. Naming of the file follows the same rule as the subject line. For example, if the subject line is \"lab01\\_Kingma\\_Hu\", the attached file should be \"lab01\\_Kingma\\_Hu.ipynb\". Only use underscores (\"\\_\") to connect names, otherwise the files cannot be parsed.\n",
    "\n",
    "Notes on implementation:\n",
    "\n",
    "* For this notebook you need to answer a few theory questions, add them in the Markdown cell's below the question. Note: you can use Latex-style code in here.\n",
    "* Focus on Part 1 the first week, and Part 2 the second week!\n",
    "* You should write your code and answers below the questions in this IPython Notebook.\n",
    "* Among the first lines of your notebook should be \"%pylab inline\". This imports all required modules, and your plots will appear inline.\n",
    "* If you have questions outside of the labs, post them on blackboard or email me.\n",
    "* NOTE: Make sure we can run your notebook / scripts!\n",
    "\n",
    "$\\newcommand{\\bx}{\\mathbf{x}}$\n",
    "$\\newcommand{\\bw}{\\mathbf{w}}$\n",
    "$\\newcommand{\\bt}{\\mathbf{t}}$\n",
    "$\\newcommand{\\by}{\\mathbf{y}}$\n",
    "$\\newcommand{\\bm}{\\mathbf{m}}$\n",
    "$\\newcommand{\\bb}{\\mathbf{b}}$\n",
    "$\\newcommand{\\bS}{\\mathbf{S}}$\n",
    "$\\newcommand{\\ba}{\\mathbf{a}}$\n",
    "$\\newcommand{\\bz}{\\mathbf{z}}$\n",
    "$\\newcommand{\\bv}{\\mathbf{v}}$\n",
    "$\\newcommand{\\bq}{\\mathbf{q}}$\n",
    "$\\newcommand{\\bp}{\\mathbf{p}}$\n",
    "$\\newcommand{\\bh}{\\mathbf{h}}$\n",
    "$\\newcommand{\\bI}{\\mathbf{I}}$\n",
    "$\\newcommand{\\bX}{\\mathbf{X}}$\n",
    "$\\newcommand{\\bT}{\\mathbf{T}}$\n",
    "$\\newcommand{\\bPhi}{\\mathbf{\\Phi}}$\n",
    "$\\newcommand{\\bW}{\\mathbf{W}}$\n",
    "$\\newcommand{\\bV}{\\mathbf{V}}$"
   ]
  },
  {
   "cell_type": "code",
   "execution_count": 1,
   "metadata": {
    "collapsed": false
   },
   "outputs": [
    {
     "name": "stdout",
     "output_type": "stream",
     "text": [
      "Populating the interactive namespace from numpy and matplotlib\n"
     ]
    }
   ],
   "source": [
    "%pylab inline\n",
    "import gzip, cPickle"
   ]
  },
  {
   "cell_type": "markdown",
   "metadata": {},
   "source": [
    "# Part 1. Multiclass logistic regression\n",
    "\n",
    "Scenario: you have a friend with one big problem: she's completely blind. You decided to help her: she has a special smartphone for blind people, and you are going to develop a mobile phone app that can do _machine vision_ using the mobile camera: converting a picture (from the camera) to the meaning of the image. You decide to start with an app that can read handwritten digits, i.e. convert an image of handwritten digits to text (e.g. it would enable her to read precious handwritten phone numbers).\n",
    "\n",
    "A key building block for such an app would be a function `predict_digit(x)` that returns the digit class of an image patch $\\bx$. Since hand-coding this function is highly non-trivial, you decide to solve this problem using machine learning, such that the internal parameters of this function are automatically learned using machine learning techniques.\n",
    "\n",
    "The dataset you're going to use for this is the MNIST handwritten digits dataset (`http://yann.lecun.com/exdb/mnist/`). You can load the data from `mnist.pkl.gz` we provided, using: "
   ]
  },
  {
   "cell_type": "code",
   "execution_count": 2,
   "metadata": {
    "collapsed": false,
    "scrolled": true
   },
   "outputs": [],
   "source": [
    "def load_mnist():\n",
    "    f = gzip.open('mnist.pkl.gz', 'rb')\n",
    "    data = cPickle.load(f)\n",
    "    f.close()\n",
    "    return data\n",
    "\n",
    "(x_train, t_train), (x_valid, t_valid), (x_test, t_test) = load_mnist()\n"
   ]
  },
  {
   "cell_type": "markdown",
   "metadata": {},
   "source": [
    "The tuples represent train, validation and test sets. The first element (`x_train`, `x_valid`, `x_test`) of each tuple is a $N \\times M$ matrix, where $N$ is the number of datapoints and $M = 28^2 = 784$ is the dimensionality of the data. The second element (`t_train`, `t_valid`, `t_test`) of each tuple is the corresponding $N$-dimensional vector of integers, containing the true class labels.\n",
    "\n",
    "Here's a visualisation of the first 8 digits of the trainingset:"
   ]
  },
  {
   "cell_type": "code",
   "execution_count": 3,
   "metadata": {
    "collapsed": false
   },
   "outputs": [
    {
     "data": {
      "image/png": "[encoded data removed]",
      "text/plain": [
       "<matplotlib.figure.Figure at 0x7fcdc523fd50>"
      ]
     },
     "metadata": {},
     "output_type": "display_data"
    }
   ],
   "source": [
    "def plot_digits(data, numcols, shape=(28,28)):\n",
    "    numdigits = data.shape[0]\n",
    "    numrows = int(numdigits/numcols)\n",
    "    for i in range(numdigits):\n",
    "        plt.subplot(numrows, numcols, i)\n",
    "        plt.axis('off')\n",
    "        plt.imshow(data[i].reshape(shape), interpolation='nearest', cmap='Greys')\n",
    "    plt.show()\n",
    "    \n",
    "plot_digits(x_train[0:8], numcols=4)"
   ]
  },
  {
   "cell_type": "markdown",
   "metadata": {},
   "source": [
    "In _multiclass_ logistic regression, the conditional probability of class label $j$ given the image $\\bx$ for some datapoint is given by:\n",
    "\n",
    "$ \\log p(t = j \\;|\\; \\bx, \\bb, \\bW) = \\log q_j - \\log Z$\n",
    "\n",
    "where $\\log q_j = w_j^T x + b_j$ (the log of the unnormalized probability of the class $j$), and $Z = \\sum_k q_k$ is the normalizing factor. $\\bw_j$ is the $j$-th column of $\\bW$ (a matrix of size $784 \\times 10$) corresponding to the class label, $b_j$ is the $j$-th element of $\\bb$.\n",
    "\n",
    "Given an input image, the multiclass logistic regression model first computes the intermediate vector $\\log \\bq$ (of size $10 \\times 1$), using $\\log q_j = \\bw_j^T \\bx + b_j$, containing the unnormalized log-probabilities per class. \n",
    "\n",
    "The unnormalized probabilities are then normalized by $Z$ such that $\\sum_j p_j = \\sum_j \\exp(\\log p_j) = 1$. This is done by $\\log p_j = \\log q_j - \\log Z$ where $Z = \\sum_j \\exp(\\log q_j)$. This is known as the _softmax_ transformation, and is also used as a last layer of many classifcation neural network models, to ensure that the output of the network is a normalized distribution, regardless of the values of second-to-last layer ($\\log \\bq$)\n",
    "\n",
    "Warning: when computing $\\log Z$, you are likely to encounter numerical problems. Save yourself countless hours of debugging and learn the [log-sum-exp trick](https://hips.seas.harvard.edu/blog/2013/01/09/computing-log-sum-exp/ \"Title\").\n",
    "\n",
    "The network's output $\\log \\bp$ of size $10 \\times 1$ then contains the conditional log-probabilities $\\log p(t = j \\;|\\; \\bx, \\bb, \\bW)$ for each digit class $j$. In summary, the computations are done in this order:\n",
    "\n",
    "$\\bx \\rightarrow \\log \\bq \\rightarrow Z \\rightarrow \\log \\bp$\n",
    "\n",
    "Given some dataset with $N$ independent, identically distributed datapoints, the log-likelihood is given by:\n",
    "\n",
    "$ \\mathcal{L}(\\bb, \\bW) = \\sum_{n=1}^N \\mathcal{L}^{(n)}$\n",
    "\n",
    "where we use $\\mathcal{L}^{(n)}$ to denote the partial log-likelihood evaluated over a single datapoint. It is important to see that the log-probability of the class label $t^{(n)}$ given the image, is given by the $t^{(n)}$-th element of the network's output $\\log \\bp$, denoted by $\\log p_{t^{(n)}}$:\n",
    "\n",
    "$\\mathcal{L}^{(n)} = \\log p(t = t^{(n)} \\;|\\; \\bx = \\bx^{(n)}, \\bb, \\bW) = \\log p_{t^{(n)}} = \\log q_{t^{(n)}} - \\log Z^{(n)}$\n",
    "\n",
    "where $\\bx^{(n)}$ and $t^{(n)}$ are the input (image) and class label (integer) of the $n$-th datapoint, and $Z^{(n)}$ is the normalizing constant for the distribution over $t^{(n)}$.\n"
   ]
  },
  {
   "cell_type": "markdown",
   "metadata": {},
   "source": [
    "## 1.1 Gradient-based stochastic optimization\n",
    "\n",
    "### 1.1.1 Derive gradient equations (20 points)\n",
    "\n",
    "Derive the equations for computing the (first) partial derivatives of the log-likelihood w.r.t. all the parameters, evaluated at a _single_ datapoint $n$.\n",
    "\n",
    "You should start deriving the equations for $\\frac{\\partial \\mathcal{L}^{(n)}}{\\partial \\log q_j}$ for each $j$. For clarity, we'll use the shorthand $\\delta^q_j = \\frac{\\partial \\mathcal{L}^{(n)}}{\\partial \\log q_j}$.\n",
    "\n",
    "For $j = t^{(n)}$:\n",
    "$\n",
    "\\delta^q_j\n",
    "= \\frac{\\partial \\mathcal{L}^{(n)}}{\\partial \\log p_j}\n",
    "\\frac{\\partial \\log p_j}{\\partial \\log q_j}\n",
    "+ \\frac{\\partial \\mathcal{L}^{(n)}}{\\partial \\log Z}\n",
    "\\frac{\\partial \\log Z}{\\partial Z} \n",
    "\\frac{\\partial Z}{\\partial \\log q_j} \n",
    "= 1 \\cdot 1 - \\frac{\\partial \\log Z}{\\partial Z} \n",
    "\\frac{\\partial Z}{\\partial \\log q_j}\n",
    "= 1 - \\frac{\\partial \\log Z}{\\partial Z} \n",
    "\\frac{\\partial Z}{\\partial \\log q_j}\n",
    "$\n",
    "\n",
    "For $j \\neq t^{(n)}$:\n",
    "$\n",
    "\\delta^q_j\n",
    "= \\frac{\\partial \\mathcal{L}^{(n)}}{\\partial \\log Z}\n",
    "\\frac{\\partial \\log Z}{\\partial Z} \n",
    "\\frac{\\partial Z}{\\partial \\log q_j} \n",
    "= - \\frac{\\partial \\log Z}{\\partial Z} \n",
    "\\frac{\\partial Z}{\\partial \\log q_j}\n",
    "$\n",
    "\n",
    "Complete the above derivations for $\\delta^q_j$ by furtherly developing $\\frac{\\partial \\log Z}{\\partial Z}$ and $\\frac{\\partial Z}{\\partial \\log q_j}$. Both are quite simple. For these it doesn't matter whether $j = t^{(n)}$ or not.\n",
    "\n",
    "Given your equations for computing the gradients $\\delta^q_j$ it should be quite straightforward to derive the equations for the gradients of the parameters of the model, $\\frac{\\partial \\mathcal{L}^{(n)}}{\\partial W_{ij}}$ and $\\frac{\\partial \\mathcal{L}^{(n)}}{\\partial b_j}$. The gradients for the biases $\\bb$ are given by:\n",
    "\n",
    "$\n",
    "\\frac{\\partial \\mathcal{L}^{(n)}}{\\partial b_j}\n",
    "= \\frac{\\partial \\mathcal{L}^{(n)}}{\\partial \\log q_j}\n",
    "\\frac{\\partial \\log q_j}{\\partial b_j}\n",
    "= \\delta^q_j\n",
    "\\cdot 1\n",
    "= \\delta^q_j\n",
    "$\n",
    "\n",
    "The equation above gives the derivative of $\\mathcal{L}^{(n)}$ w.r.t. a single element of $\\bb$, so the vector $\\nabla_\\bb \\mathcal{L}^{(n)}$ with all derivatives of $\\mathcal{L}^{(n)}$ w.r.t. the bias parameters $\\bb$ is: \n",
    "\n",
    "$\n",
    "\\nabla_\\bb \\mathcal{L}^{(n)} = \\mathbf{\\delta}^q\n",
    "$\n",
    "\n",
    "where $\\mathbf{\\delta}^q$ denotes the vector of size $10 \\times 1$ with elements $\\mathbf{\\delta}_j^q$.\n",
    "\n",
    "The (not fully developed) equation for computing the derivative of $\\mathcal{L}^{(n)}$ w.r.t. a single element $W_{ij}$ of $\\bW$ is:\n",
    "\n",
    "$\n",
    "\\frac{\\partial \\mathcal{L}^{(n)}}{\\partial W_{ij}} =\n",
    "\\frac{\\partial \\mathcal{L}^{(n)}}{\\partial \\log q_j}\n",
    "\\frac{\\partial \\log q_j}{\\partial W_{ij}}\n",
    "= \\mathbf{\\delta}_j^q\n",
    "\\frac{\\partial \\log q_j}{\\partial W_{ij}}\n",
    "$\n",
    "\n",
    "What is $\\frac{\\partial \\log q_j}{\\partial W_{ij}}$? Complete the equation above.\n",
    "\n",
    "If you want, you can give the resulting equation in vector format ($\\nabla_{\\bw_j} \\mathcal{L}^{(n)} = ...$), like we did for $\\nabla_\\bb \\mathcal{L}^{(n)}$.\n",
    "\n",
    "#####Answer: "
   ]
  },
  {
   "cell_type": "markdown",
   "metadata": {},
   "source": [
    "$$\\nabla_{w_j} \\mathcal{L}^{(n)} = \\delta^q_j \\frac{\\partial \\log q_j}{\\partial W_j} = \\delta^q_j \\cdot x$$"
   ]
  },
  {
   "cell_type": "markdown",
   "metadata": {},
   "source": [
    "### 1.1.2 Implement gradient computations (10 points)\n",
    "\n",
    "Implement the gradient calculations you derived in the previous question. Write a function `logreg_gradient(x, t, w, b)` that returns the gradients $\\nabla_{w_j} \\mathcal{L}^{(n)}$ (for each $j$) and $\\nabla_{b} \\mathcal{L}^{(n)}$, i.e. the first partial derivatives of the log-likelihood w.r.t. the parameters $W$ and $b$, evaluated at a single datapoint (`x`, `t`).\n",
    "The computation will contain roughly the following intermediate variables:\n",
    "\n",
    "$\n",
    "\\log q \\rightarrow Z \\rightarrow \\log p\\,,\\, \\mathbf{\\delta}^q\n",
    "$\n",
    "\n",
    "followed by computation of the gradient vectors $\\nabla_{w_j} \\mathcal{L}^{(n)}$ (contained in a $784 \\times 10$ matrix) and $\\nabla_{b} \\mathcal{L}^{(n)}$ (a $10 \\times 1$ vector).\n"
   ]
  },
  {
   "cell_type": "code",
   "execution_count": 4,
   "metadata": {
    "collapsed": false
   },
   "outputs": [
    {
     "data": {
      "image/png": "[encoded data removed]",
      "text/plain": [
       "<matplotlib.figure.Figure at 0x7fcdc4cd95d0>"
      ]
     },
     "metadata": {},
     "output_type": "display_data"
    },
    {
     "name": "stdout",
     "output_type": "stream",
     "text": [
      "[[ 0.9]\n",
      " [-0.1]\n",
      " [-0.1]\n",
      " [-0.1]\n",
      " [-0.1]\n",
      " [-0.1]\n",
      " [-0.1]\n",
      " [-0.1]\n",
      " [-0.1]\n",
      " [-0.1]]\n"
     ]
    }
   ],
   "source": [
    "#log q_j=w^T_j * x+b_j\n",
    "\n",
    "def get_log_p(x,t,w,b):\n",
    "    #print 'w.shape:', w.shape\n",
    "    #print 'x.shape:', x.shape\n",
    "    #print 'b.shape:', b.shape\n",
    "    log_q = np.dot(w.T, x) +b #note: log_q isn't a log(...)???\n",
    "    #print 'log_q.shape:', log_q.shape\n",
    "    \n",
    "    Z = np.sum(np.exp(log_q))\n",
    "    a = np.max(log_q)\n",
    "    Za = np.sum(np.exp(log_q - a))\n",
    "    log_Z = ( a + np.log(Za))\n",
    "    log_p = log_q -log_Z\n",
    "    return Z, log_q, log_p[t][0]\n",
    "    \n",
    "\n",
    "def logreg_gradient(x,t,w,b):\n",
    "    x = x.reshape((-1, 1))\n",
    "    b = b.reshape((-1, 1))\n",
    "    Z, log_q, log_p = get_log_p(x,t,w,b)\n",
    "    #print 'log_p.shape:', log_p.shape\n",
    "    delta_q = -1/Z * np.exp(log_q)\n",
    "#     print 'delta_q.shape:', delta_q.shape\n",
    "    delta_q[t] +=1\n",
    "    nabla_W = delta_q.T * x\n",
    "    nabla_b = delta_q\n",
    "    \n",
    "    return nabla_W, nabla_b, log_p\n",
    "    \n",
    "W = np.zeros((784, 10))\n",
    "b = np.zeros(10)\n",
    "nabla_W, nabla_b, log_p = logreg_gradient(x_train[1], t_train[1], W, b) \n",
    "# print nabla_W\n",
    "plot_digits(nabla_W.T, numcols=5)\n",
    "print nabla_b\n",
    "\n"
   ]
  },
  {
   "cell_type": "markdown",
   "metadata": {},
   "source": [
    "\n",
    "### 1.1.3 Stochastic gradient descent (10 points)\n",
    "\n",
    "Write a function `sgd_iter(x_train, t_train, w, b)` that performs one iteration of stochastic gradient descent (SGD), and returns the new weights. It should go through the trainingset once in randomized order, call `logreg_gradient(x, t, w, b)` for each datapoint to get the gradients, and update the parameters using a small learning rate (e.g. `1E-4`). Note that in this case we're maximizing the likelihood function, so we should actually performing gradient ___ascent___... For more information about SGD, see Bishop 5.2.4 or an online source (i.e. https://en.wikipedia.org/wiki/Stochastic_gradient_descent)"
   ]
  },
  {
   "cell_type": "code",
   "execution_count": 5,
   "metadata": {
    "collapsed": false
   },
   "outputs": [
    {
     "data": {
      "image/png": "[encoded data removed]",
      "text/plain": [
       "<matplotlib.figure.Figure at 0x7fcdc45a8850>"
      ]
     },
     "metadata": {},
     "output_type": "display_data"
    },
    {
     "data": {
      "image/png": "[encoded data removed]",
      "text/plain": [
       "<matplotlib.figure.Figure at 0x7fcdc51e2b90>"
      ]
     },
     "metadata": {},
     "output_type": "display_data"
    }
   ],
   "source": [
    "import pprint\n",
    "def sgd_iter(x_train, t_train, w, b):\n",
    "    wIn = w.copy()\n",
    "    learn_rate = 1e-5\n",
    "    b = b.reshape((-1, 1))\n",
    "    perm = np.random.permutation(x_train.shape[0])\n",
    "    sum_log_p = 0\n",
    "    for i in perm:\n",
    "        nabla_W, nabla_b, log_p = logreg_gradient(x_train[i], t_train[i], w, b)\n",
    "        w += nabla_W * learn_rate\n",
    "        b += nabla_b * learn_rate\n",
    "        sum_log_p += log_p\n",
    "        \n",
    "    return w, b, sum_log_p\n",
    "        \n",
    "W = np.zeros((784, 10))\n",
    "b = np.zeros(10)\n",
    "\n",
    "for i in range(10):\n",
    "    if i ==1:\n",
    "        plot_digits(W.T, numcols=10)\n",
    "\n",
    "    W, b, _ = sgd_iter(x_train[:21], t_train[:21], W, b)   \n",
    "#     print np.min(W)\n",
    "\n",
    "plot_digits(W.T, numcols=10)\n"
   ]
  },
  {
   "cell_type": "markdown",
   "metadata": {},
   "source": [
    "## 1.2. Train\n",
    "\n",
    "### 1.2.1 Train (10 points)\n",
    "Perform a handful of training iterations through the trainingset. Plot (in one graph) the conditional log-probability of the trainingset and validation set after each iteration.\n"
   ]
  },
  {
   "cell_type": "code",
   "execution_count": 6,
   "metadata": {
    "collapsed": false
   },
   "outputs": [
    {
     "data": {
      "image/png": "[encoded data removed]",
      "text/plain": [
       "<matplotlib.figure.Figure at 0x7fcdc49aff90>"
      ]
     },
     "metadata": {},
     "output_type": "display_data"
    }
   ],
   "source": [
    "plot_list = []\n",
    "vplot_list = []\n",
    "\n",
    "def valid_log_p(x,t,W,b):\n",
    "    sum_vlog_p=0\n",
    "    for j in range(len(x)):\n",
    "        _,_,vlog_p = get_log_p(x[j],t[j],W,b)\n",
    "        sum_vlog_p+=vlog_p\n",
    "    return sum_vlog_p\n",
    "W = np.zeros((784, 10))\n",
    "b = np.zeros(10)\n",
    "\n",
    "for i in range(150):\n",
    "#     plot_digits(W.T, numcols=10)\n",
    "    W, b, log_p = sgd_iter(x_train[:1000], t_train[:1000], W, b)\n",
    "    plot_list.append(log_p)\n",
    "#     plot_digits(W.T, numcols=10)\n",
    "    sum_vlog_p=valid_log_p(x_valid[:1000], t_valid[:1000], W, b)\n",
    "    vplot_list.append(sum_vlog_p)\n",
    "plt.plot(plot_list, label='Train set')\n",
    "plt.plot(vplot_list, label=\"Validation set\")\n",
    "plt.ylabel('error')\n",
    "plt.xlabel('iteration')\n",
    "plt.legend(bbox_to_anchor=(1.05, 1), loc=2, borderaxespad=0.)\n",
    "\n",
    "plt.show()"
   ]
  },
  {
   "cell_type": "markdown",
   "metadata": {},
   "source": [
    "We choose a learning rate of 1e-5, now you can see in the graph that the errors of the training AND validation are decreasing and after a few iteration the validation error starts increasing."
   ]
  },
  {
   "cell_type": "markdown",
   "metadata": {},
   "source": [
    "### 1.2.2 Visualize weights (10 points)\n",
    "Visualize the resulting parameters $\\bW$ after a few iterations through the training set, by treating each column of $\\bW$ as an image. If you want, you can use or edit the `plot_digits(...)` above."
   ]
  },
  {
   "cell_type": "code",
   "execution_count": 7,
   "metadata": {
    "collapsed": false
   },
   "outputs": [
    {
     "name": "stdout",
     "output_type": "stream",
     "text": [
      "[  0.00000000e+00   0.00000000e+00   0.00000000e+00   0.00000000e+00\n",
      "   0.00000000e+00   0.00000000e+00   0.00000000e+00   0.00000000e+00\n",
      "   0.00000000e+00   0.00000000e+00   0.00000000e+00   0.00000000e+00\n",
      "   0.00000000e+00   0.00000000e+00   0.00000000e+00   0.00000000e+00\n",
      "   0.00000000e+00   0.00000000e+00   0.00000000e+00   0.00000000e+00\n",
      "   0.00000000e+00   0.00000000e+00   0.00000000e+00   0.00000000e+00\n",
      "   0.00000000e+00   0.00000000e+00   0.00000000e+00   0.00000000e+00\n",
      "   0.00000000e+00   0.00000000e+00   0.00000000e+00   0.00000000e+00\n",
      "   0.00000000e+00   0.00000000e+00   0.00000000e+00   0.00000000e+00\n",
      "   0.00000000e+00   0.00000000e+00  -8.77315835e-06  -5.43935818e-05\n",
      "   0.00000000e+00  -8.25907904e-05  -2.62947761e-04  -3.30550150e-04\n",
      "  -3.57675209e-04  -1.55367239e-04  -5.86521298e-05   0.00000000e+00\n",
      "   0.00000000e+00   0.00000000e+00   0.00000000e+00   0.00000000e+00\n",
      "   0.00000000e+00   0.00000000e+00   0.00000000e+00   0.00000000e+00\n",
      "   0.00000000e+00   0.00000000e+00   0.00000000e+00   0.00000000e+00\n",
      "   0.00000000e+00   0.00000000e+00   0.00000000e+00   0.00000000e+00\n",
      "   0.00000000e+00   0.00000000e+00  -1.01240659e-04  -3.34638050e-04\n",
      "  -4.30904442e-04  -5.33186787e-04  -1.10316041e-03  -1.49947303e-03\n",
      "  -2.83900865e-03  -3.06921982e-03  -2.73521284e-03  -2.09375686e-03\n",
      "  -8.84700875e-04  -4.71627599e-04  -2.60077972e-04  -2.59890347e-05\n",
      "   0.00000000e+00   0.00000000e+00   0.00000000e+00   0.00000000e+00\n",
      "   0.00000000e+00   0.00000000e+00   0.00000000e+00   0.00000000e+00\n",
      "   0.00000000e+00   0.00000000e+00  -1.67096510e-05  -1.00622121e-04\n",
      "  -3.60121903e-04  -6.01870425e-04  -9.85132311e-04  -1.50616966e-03\n",
      "  -1.25883071e-03  -2.37100727e-03  -3.85303558e-03  -4.34438893e-03\n",
      "  -6.20735136e-03  -6.41827339e-03  -4.98660320e-03  -3.30496073e-03\n",
      "  -1.98583079e-03  -1.53407938e-03  -5.01476112e-04  -2.09042235e-05\n",
      "   0.00000000e+00   0.00000000e+00   0.00000000e+00   0.00000000e+00\n",
      "   0.00000000e+00   0.00000000e+00   0.00000000e+00   0.00000000e+00\n",
      "  -2.47870709e-05  -1.94570358e-04  -3.52666648e-04  -6.68439467e-04\n",
      "  -1.29471084e-03  -1.64135005e-03  -1.97857829e-03   2.24461532e-04\n",
      "   2.62869778e-03   2.97498268e-03   3.68961368e-03   5.91853837e-04\n",
      "   3.93946244e-04   4.51151113e-03   4.34842418e-03   6.83080443e-03\n",
      "   8.44865116e-03   5.04112108e-03   2.28456170e-03   9.33837301e-04\n",
      "  -1.66331576e-04   0.00000000e+00   0.00000000e+00   0.00000000e+00\n",
      "   0.00000000e+00   0.00000000e+00   0.00000000e+00  -1.27219641e-05\n",
      "  -3.31563121e-04  -9.05161379e-04  -2.13713232e-03  -2.72636094e-03\n",
      "  -2.80443044e-03  -2.73709758e-03  -9.20403219e-04   1.29248064e-03\n",
      "   3.18297176e-03   6.66452297e-03   1.00840874e-02   1.35601823e-02\n",
      "   1.58097412e-02   1.70811704e-02   1.72125386e-02   1.54442318e-02\n",
      "   1.14674581e-02   6.82408984e-03   7.15736163e-04   5.61107124e-04\n",
      "  -2.31174411e-03  -4.41492861e-04  -6.75394749e-05   0.00000000e+00\n",
      "   0.00000000e+00   0.00000000e+00   0.00000000e+00  -2.02140622e-04\n",
      "  -8.70711597e-04  -1.98629365e-03  -3.71705941e-03  -3.81271600e-03\n",
      "  -3.87653233e-03  -8.03775820e-04   6.18603835e-04  -1.21093512e-03\n",
      "   3.02496791e-03   5.48994647e-03   8.78031923e-03   1.70732343e-02\n",
      "   2.48239086e-02   2.39453109e-02   2.34832213e-02   1.92477277e-02\n",
      "   1.28687882e-02   7.94724411e-03   7.81286207e-04  -7.35931887e-04\n",
      "  -3.36084067e-03  -8.47625417e-04  -2.27957858e-04  -1.53620091e-04\n",
      "   0.00000000e+00   0.00000000e+00  -1.00779495e-04  -7.41931485e-04\n",
      "  -1.62178444e-03  -3.20344908e-03  -4.48647659e-03  -4.40165665e-03\n",
      "  -2.30846082e-03  -2.94999448e-04  -4.08098393e-03  -6.23842385e-04\n",
      "   1.09425208e-03   5.32422737e-03   1.09453253e-02   2.04502966e-02\n",
      "   2.40210431e-02   2.74687607e-02   2.44575440e-02   2.30656829e-02\n",
      "   1.76072515e-02   1.15947863e-02   2.08458014e-03  -7.81772344e-04\n",
      "  -2.63835301e-03  -1.77336507e-03  -7.12434568e-04  -1.19898457e-04\n",
      "   0.00000000e+00   0.00000000e+00  -8.22432548e-05  -9.61029415e-04\n",
      "  -2.39352994e-03  -3.87098514e-03  -3.49539151e-03  -4.21657195e-03\n",
      "   1.44368000e-03  -1.84466034e-03  -4.29938230e-04   2.18865114e-03\n",
      "   1.83924213e-03   7.42187182e-03   1.33507560e-02   1.61104784e-02\n",
      "   1.57062567e-02   1.41970856e-02   1.36222696e-02   1.96706482e-02\n",
      "   1.95679725e-02   1.96568750e-02   8.72491277e-03   1.93600535e-03\n",
      "  -4.84988440e-04  -2.24333683e-03  -3.45631953e-04   0.00000000e+00\n",
      "   0.00000000e+00  -3.06497739e-05  -8.55997714e-05  -8.58475374e-04\n",
      "  -2.66785706e-03  -4.02690165e-03  -2.17893886e-03  -1.00981280e-03\n",
      "   1.12311853e-03  -1.39079191e-03   1.53540154e-03   1.04841340e-02\n",
      "   8.14285482e-03   1.52552658e-02   1.46751169e-02   7.46479392e-03\n",
      "  -3.33403701e-03  -6.00337193e-03   1.44005742e-03   1.66588505e-02\n",
      "   2.65321599e-02   2.60306081e-02   1.75918831e-02   6.76079930e-03\n",
      "   1.99234934e-03  -1.10501870e-03  -6.96252987e-05   0.00000000e+00\n",
      "   0.00000000e+00  -3.53651238e-06  -1.91824626e-04  -1.10571832e-03\n",
      "  -2.86483841e-03  -3.47535758e-03   8.58109199e-05   4.26039991e-03\n",
      "   4.04330346e-03   7.27612796e-03   1.05702944e-02   1.22821681e-02\n",
      "   1.73005341e-02   1.87788728e-02   8.53638874e-03  -1.21988479e-02\n",
      "  -2.36434791e-02  -2.27243794e-02  -8.81727431e-03   9.90004473e-03\n",
      "   2.93636847e-02   3.51384936e-02   2.84572744e-02   1.44987291e-02\n",
      "   4.25269323e-03  -3.05564518e-04  -5.22094298e-05   0.00000000e+00\n",
      "   0.00000000e+00   0.00000000e+00  -1.66450932e-04  -1.02168020e-03\n",
      "  -2.69274931e-03  -2.01620916e-04   6.06796160e-03   9.15767667e-03\n",
      "   8.99693171e-03   1.54324826e-02   1.51291586e-02   1.67750777e-02\n",
      "   1.60292748e-02   6.28680490e-03  -1.35060506e-02  -2.98390111e-02\n",
      "  -3.61929776e-02  -3.65474854e-02  -2.06529416e-02   2.09704735e-03\n",
      "   2.78319148e-02   4.08927858e-02   3.68535002e-02   2.02757980e-02\n",
      "   6.47954111e-03   4.08899272e-04   9.94353720e-04   0.00000000e+00\n",
      "   0.00000000e+00   0.00000000e+00  -8.27454782e-05  -6.34874773e-04\n",
      "  -2.46012277e-03   3.03405609e-03   1.06528852e-02   1.23815072e-02\n",
      "   1.74882525e-02   2.32965890e-02   1.78671142e-02   1.17892128e-02\n",
      "   1.78013572e-03  -1.57283864e-02  -3.54808032e-02  -4.54196132e-02\n",
      "  -4.99971855e-02  -4.67088230e-02  -2.93270070e-02  -2.72386762e-03\n",
      "   3.03889884e-02   4.34345850e-02   3.93182857e-02   2.30493316e-02\n",
      "   7.48628834e-03   4.38295169e-04   7.92733611e-04   0.00000000e+00\n",
      "   0.00000000e+00   0.00000000e+00   2.32106221e-04  -2.00279848e-04\n",
      "  -1.00845052e-03   5.24010270e-03   1.44775300e-02   1.97581690e-02\n",
      "   2.69568145e-02   3.00120322e-02   1.78259638e-02   1.81763089e-03\n",
      "  -1.44570811e-02  -3.82447948e-02  -5.26320289e-02  -5.93192552e-02\n",
      "  -6.34424927e-02  -5.55758261e-02  -2.81008743e-02  -5.99599654e-04\n",
      "   3.12370576e-02   4.55275388e-02   3.81812251e-02   2.28888062e-02\n",
      "   7.58567814e-03  -5.33682061e-06   9.16455041e-05   0.00000000e+00\n",
      "   0.00000000e+00   0.00000000e+00   0.00000000e+00  -1.97974133e-04\n",
      "  -3.78117057e-04   8.97677475e-03   2.02250466e-02   2.86163796e-02\n",
      "   3.50172595e-02   2.98379878e-02   9.82630764e-03  -1.12486089e-02\n",
      "  -3.60577496e-02  -5.28503626e-02  -6.12350597e-02  -6.60231909e-02\n",
      "  -6.61482027e-02  -5.51365702e-02  -2.71660001e-02   3.45407333e-03\n",
      "   3.00365883e-02   4.05657101e-02   3.37729932e-02   2.14537514e-02\n",
      "   8.32506606e-03  -1.51860558e-04  -7.52204115e-06   0.00000000e+00\n",
      "   0.00000000e+00   0.00000000e+00   0.00000000e+00  -2.36590076e-04\n",
      "  -2.04721397e-04   1.41482000e-02   2.78223354e-02   3.62739848e-02\n",
      "   4.19099027e-02   2.68110006e-02   5.03023026e-04  -2.80154075e-02\n",
      "  -4.61052381e-02  -5.63518857e-02  -6.15015804e-02  -6.37011301e-02\n",
      "  -6.02112408e-02  -4.63728457e-02  -1.97582252e-02   9.36550427e-03\n",
      "   3.13185907e-02   3.29612857e-02   2.48403675e-02   1.85435695e-02\n",
      "   8.67252608e-03  -3.98623584e-04  -1.41691998e-04   0.00000000e+00\n",
      "   0.00000000e+00   0.00000000e+00  -6.40103858e-06  -2.40290850e-04\n",
      "   1.91049137e-04   1.78822721e-02   3.26639140e-02   4.43875776e-02\n",
      "   4.27451234e-02   2.07410644e-02  -9.43668681e-03  -3.18148923e-02\n",
      "  -4.34512721e-02  -5.14459108e-02  -5.72876732e-02  -5.67714934e-02\n",
      "  -4.91800549e-02  -3.35004853e-02  -8.90103847e-03   1.52470975e-02\n",
      "   2.80385383e-02   2.80507651e-02   1.73983077e-02   1.47714674e-02\n",
      "   7.72223294e-03  -4.15328062e-04  -6.42266591e-05   0.00000000e+00\n",
      "   0.00000000e+00   0.00000000e+00  -2.44190838e-05  -5.58164185e-04\n",
      "   2.71299082e-03   2.14729503e-02   3.70390703e-02   4.76661720e-02\n",
      "   4.37883081e-02   1.85053220e-02  -1.02079391e-02  -2.63539508e-02\n",
      "  -3.62206872e-02  -4.51088015e-02  -4.88983615e-02  -4.58719031e-02\n",
      "  -3.34701323e-02  -1.84660714e-02   3.02223685e-03   2.04701597e-02\n",
      "   2.46602669e-02   1.71887219e-02   1.13368011e-02   1.06856207e-02\n",
      "   5.84818420e-03  -6.94188375e-04   0.00000000e+00   0.00000000e+00\n",
      "   0.00000000e+00   0.00000000e+00  -1.07209642e-04  -9.76342257e-04\n",
      "   4.38613450e-03   2.10730465e-02   3.74320931e-02   4.84083899e-02\n",
      "   4.11881527e-02   1.48838449e-02  -8.37774073e-03  -2.19599031e-02\n",
      "  -3.19963974e-02  -3.74407733e-02  -3.83109638e-02  -3.19314299e-02\n",
      "  -1.81929469e-02   5.10255490e-04   1.26441954e-02   2.01019406e-02\n",
      "   1.60906215e-02   8.34026732e-03   7.74523092e-03   8.17606777e-03\n",
      "   3.84189537e-03   6.64739474e-05   0.00000000e+00   0.00000000e+00\n",
      "   0.00000000e+00   0.00000000e+00  -1.32072021e-04  -1.66729727e-03\n",
      "   3.72637032e-03   1.78106265e-02   3.30202138e-02   4.20921198e-02\n",
      "   3.55552864e-02   1.80573827e-02   1.34781547e-03  -1.08331684e-02\n",
      "  -2.15152980e-02  -2.62211204e-02  -2.42726345e-02  -1.81017234e-02\n",
      "  -4.63755545e-03   8.10662188e-03   1.29796242e-02   1.51001767e-02\n",
      "   9.17065610e-03   7.70102734e-03   7.37853492e-03   7.14955509e-03\n",
      "   1.89510912e-03   3.70887417e-05   0.00000000e+00   0.00000000e+00\n",
      "   0.00000000e+00   0.00000000e+00  -1.64984471e-04  -2.35778576e-03\n",
      "   3.52971849e-03   1.20702729e-02   2.82874557e-02   3.17430514e-02\n",
      "   3.20291970e-02   2.53391137e-02   1.67162295e-02   9.23344524e-03\n",
      "   4.46925167e-03  -1.65030815e-03  -6.80789321e-03   3.15956475e-04\n",
      "   9.21664302e-03   1.47442607e-02   1.11883987e-02   7.97387193e-03\n",
      "   8.21543290e-03   7.77990491e-03   7.70180272e-03   3.54161541e-03\n",
      "  -3.33542670e-04   1.11506902e-04   6.59847630e-04   0.00000000e+00\n",
      "   0.00000000e+00   0.00000000e+00  -2.36135248e-04  -2.14353563e-03\n",
      "   1.51450480e-03   1.00388058e-02   2.00290854e-02   2.78071365e-02\n",
      "   3.02838686e-02   3.46633960e-02   3.24074593e-02   2.50819667e-02\n",
      "   1.67224868e-02   9.02111964e-03   6.83319643e-03   1.25049455e-02\n",
      "   1.70590721e-02   1.41652058e-02   1.02862647e-02   6.75995943e-03\n",
      "   7.40819108e-03   7.37702427e-03   4.15898620e-03   1.58526600e-04\n",
      "  -1.59520453e-04   4.39153687e-04   1.10721424e-03   0.00000000e+00\n",
      "   0.00000000e+00   0.00000000e+00  -1.14271232e-04  -1.18530471e-03\n",
      "   1.50160584e-03   8.88629864e-03   1.41434734e-02   1.63620145e-02\n",
      "   2.05230080e-02   2.68944728e-02   3.10191843e-02   2.82242576e-02\n",
      "   2.41393237e-02   1.98366191e-02   1.66166374e-02   1.85256942e-02\n",
      "   1.45144297e-02   9.55772703e-03   5.50091262e-03   7.26817200e-03\n",
      "   5.54059833e-03   2.62307847e-03   5.46126133e-05  -7.12405895e-04\n",
      "  -1.86056271e-04   2.84101063e-04   6.50683079e-04   0.00000000e+00\n",
      "   0.00000000e+00   0.00000000e+00  -2.25521551e-05  -4.75360831e-04\n",
      "  -8.10595518e-04   2.61667851e-03   4.81271280e-03   4.28869474e-03\n",
      "   5.75589087e-03   9.92560605e-03   1.35262898e-02   1.50698592e-02\n",
      "   1.38494665e-02   1.27161282e-02   1.16987008e-02   9.22086659e-03\n",
      "   2.76268284e-03   2.28712618e-03   2.97783063e-03   1.73549509e-03\n",
      "  -4.02868138e-04  -1.22316561e-03  -6.54605787e-04  -7.34858991e-04\n",
      "  -1.06824401e-04   0.00000000e+00   0.00000000e+00   0.00000000e+00\n",
      "   0.00000000e+00   0.00000000e+00   0.00000000e+00  -2.97104329e-04\n",
      "  -1.12727220e-03  -2.37059850e-03  -3.60324684e-03  -5.33873077e-03\n",
      "  -8.95512941e-03  -1.20631667e-02  -1.35691591e-02  -9.88737149e-03\n",
      "  -6.69120295e-03  -4.52037970e-03  -2.80393281e-03  -2.92191335e-03\n",
      "  -4.55694372e-03  -3.22317633e-03  -2.77942072e-03  -2.47346471e-03\n",
      "  -1.89100846e-03  -7.10784901e-04  -3.95938269e-04  -3.45259230e-04\n",
      "  -8.43496776e-05   0.00000000e+00   0.00000000e+00   0.00000000e+00\n",
      "   0.00000000e+00   0.00000000e+00   0.00000000e+00  -1.84609999e-05\n",
      "  -2.74764528e-04  -9.75844818e-04  -2.15856547e-03  -3.53227124e-03\n",
      "  -5.05978907e-03  -6.74708760e-03  -8.36436248e-03  -7.67250344e-03\n",
      "  -6.77929112e-03  -6.16864883e-03  -5.56439286e-03  -4.58165662e-03\n",
      "  -4.25026108e-03  -2.62403356e-03  -1.78302985e-03  -1.10644138e-03\n",
      "  -6.25490365e-04  -9.21493752e-05  -1.45870266e-04  -1.75970879e-04\n",
      "  -3.85390769e-05   0.00000000e+00   0.00000000e+00   0.00000000e+00\n",
      "   0.00000000e+00   0.00000000e+00   0.00000000e+00  -1.75160464e-05\n",
      "  -1.91267555e-04  -3.67916546e-04  -1.32189180e-03  -1.82851687e-03\n",
      "  -2.25454267e-03  -2.73856949e-03  -2.95956792e-03  -2.08159990e-03\n",
      "  -1.82817454e-03  -2.10206418e-03  -2.13741212e-03  -2.26114315e-03\n",
      "  -2.03091855e-03  -1.22408135e-03  -6.03664098e-04  -3.35261414e-04\n",
      "  -6.68635425e-05  -1.75457523e-05   0.00000000e+00   0.00000000e+00\n",
      "   0.00000000e+00   0.00000000e+00   0.00000000e+00   0.00000000e+00\n",
      "   0.00000000e+00   0.00000000e+00   0.00000000e+00   0.00000000e+00\n",
      "   0.00000000e+00  -9.50422590e-05  -2.12015502e-04  -3.03761232e-04\n",
      "  -3.29789462e-04  -1.84651406e-04  -1.30190733e-04  -1.28166765e-04\n",
      "  -2.92587448e-04  -3.91709767e-04  -3.60676047e-04  -4.21254990e-04\n",
      "  -5.29744894e-04  -3.26667151e-04  -2.02017190e-04  -6.12223669e-05\n",
      "   0.00000000e+00   0.00000000e+00   0.00000000e+00   0.00000000e+00\n",
      "   0.00000000e+00   0.00000000e+00   0.00000000e+00   0.00000000e+00]\n"
     ]
    },
    {
     "data": {
      "image/png": "[encoded data removed]",
      "text/plain": [
       "<matplotlib.figure.Figure at 0x7fcdc50f23d0>"
      ]
     },
     "metadata": {},
     "output_type": "display_data"
    }
   ],
   "source": [
    "print W.T[0]\n",
    "\n",
    "plot_digits(W.T, numcols=5)"
   ]
  },
  {
   "cell_type": "markdown",
   "metadata": {},
   "source": [
    "### 1.2.3. Visualize the 8 hardest and 8 easiest digits (10 points)\n",
    "Visualize the 8 digits in the validation set with the highest probability of the true class label under the model.\n",
    "Also plot the 8 digits that were assigned the lowest probability.\n",
    "Ask yourself if these results make sense."
   ]
  },
  {
   "cell_type": "code",
   "execution_count": 8,
   "metadata": {
    "collapsed": false
   },
   "outputs": [
    {
     "data": {
      "image/png": "[encoded data removed]",
      "text/plain": [
       "<matplotlib.figure.Figure at 0x7fcdc5064690>"
      ]
     },
     "metadata": {},
     "output_type": "display_data"
    },
    {
     "data": {
      "image/png": "[encoded data removed]",
      "text/plain": [
       "<matplotlib.figure.Figure at 0x7fcdc43b3f10>"
      ]
     },
     "metadata": {},
     "output_type": "display_data"
    }
   ],
   "source": [
    "prob_list = [] #[[image, prob], [],...,[]]\n",
    "for i, image in enumerate(x_valid):\n",
    "    _,_,prob = get_log_p(x_valid[i],t_valid[i],W,b)\n",
    "    prob_list.append([image,prob, t_valid[i]])\n",
    "\n",
    "        \n",
    "# print prob_list[0][1]\n",
    "prob_list = sorted(prob_list,key=lambda x: x[1])\n",
    "n=8\n",
    "plot_digits( numpy.asarray([numpy.asarray(x[0]) for x in prob_list[:n]]), numcols=8)\n",
    "# print [x[2] for x in prob_list[:n]]\n",
    "plot_digits( numpy.asarray([numpy.asarray(x[0]) for x in prob_list[-n:]]), numcols=8)\n",
    "# print [x[2] for x in prob_list[-n:]]\n",
    "\n",
    "\n",
    "    "
   ]
  },
  {
   "cell_type": "markdown",
   "metadata": {},
   "source": [
    "Do these results make sense? Yes, the digits 7 and 1 are similar in the vertical line wich makes it harder to classify. All zeros are just a circle and therefore simple to classify"
   ]
  },
  {
   "cell_type": "markdown",
   "metadata": {},
   "source": [
    "# Part 2. Multilayer perceptron\n",
    "\n",
    "\n",
    "You discover that the predictions by the logistic regression classifier are not good enough for your application: the model is too simple. You want to increase the accuracy of your predictions by using a better model. For this purpose, you're going to use a multilayer perceptron (MLP), a simple kind of neural network. The perceptron wil have a single hidden layer $\\bh$ with $L$ elements. The parameters of the model are $\\bV$ (connections between input $\\bx$ and hidden layer $\\bh$), $\\ba$ (the biases/intercepts of $\\bh$), $\\bW$ (connections between $\\bh$ and $\\log q$) and $\\bb$ (the biases/intercepts of $\\log q$.\n",
    "\n",
    "The conditional probability of the class label $j$ is given by:\n",
    "\n",
    "$\\log p(t = j \\;|\\; \\bx, \\bb, \\bW) = \\log q_j - \\log Z$\n",
    "\n",
    "where $q_j$ are again the unnormalized probabilities per class, and $Z = \\sum_j q_j$ is again the probability normalizing factor. Each $q_j$ is computed using:\n",
    "\n",
    "$\\log q_j = \\bw_j^T \\bh + b_j$\n",
    "\n",
    "where $\\bh$ is a $L \\times 1$ vector with the hidden layer activations (of a hidden layer with size $L$), and $\\bw_j$ is the $j$-th column of $\\bW$ (a $L \\times 10$ matrix). Each element of the hidden layer is computed from the input vector $\\bx$ using:\n",
    "\n",
    "$h_j = \\sigma(\\bv_j^T \\bx + a_j)$\n",
    "\n",
    "where $\\bv_j$ is the $j$-th column of $\\bV$ (a $784 \\times L$ matrix), $a_j$ is the $j$-th element of $\\ba$, and $\\sigma(.)$ is the so-called sigmoid activation function, defined by:\n",
    "\n",
    "$\\sigma(x) = \\frac{1}{1 + \\exp(-x)}$\n",
    "\n",
    "Note that this model is almost equal to the multiclass logistic regression model, but with an extra 'hidden layer' $\\bh$. The activations of this hidden layer can be viewed as features computed from the input, where the feature transformation ($\\bV$ and $\\ba$) is learned.\n",
    "\n",
    "## 2.1 Derive gradient equations (20 points)\n",
    "\n",
    "State (shortly) why $\\nabla_{\\bb} \\mathcal{L}^{(n)}$ is equal to the earlier (multiclass logistic regression) case, and why $\\nabla_{\\bw_j} \\mathcal{L}^{(n)}$ is almost equal to the earlier case.\n",
    "\n",
    "Like in multiclass logistic regression, you should use intermediate variables $\\mathbf{\\delta}_j^q$. In addition, you should use intermediate variables $\\mathbf{\\delta}_j^h = \\frac{\\partial \\mathcal{L}^{(n)}}{\\partial h_j}$.\n",
    "\n",
    "Given an input image, roughly the following intermediate variables should be computed:\n",
    "\n",
    "$\n",
    "\\log \\bq \\rightarrow Z \\rightarrow \\log \\bp \\rightarrow \\mathbf{\\delta}^q \\rightarrow \\mathbf{\\delta}^h\n",
    "$\n",
    "\n",
    "where $\\mathbf{\\delta}_j^h = \\frac{\\partial \\mathcal{L}^{(n)}}{\\partial \\bh_j}$.\n",
    "\n",
    "Give the equations for computing $\\mathbf{\\delta}^h$, and for computing the derivatives of $\\mathcal{L}^{(n)}$ w.r.t. $\\bW$, $\\bb$, $\\bV$ and $\\ba$. \n",
    "\n",
    "You can use the convenient fact that $\\frac{\\partial}{\\partial x} \\sigma(x) = \\sigma(x) (1 - \\sigma(x))$.\n",
    "\n",
    "#####Answer: "
   ]
  },
  {
   "cell_type": "markdown",
   "metadata": {},
   "source": [
    "$\\frac{\\partial \\mathcal{L}^{(n)}}{\\partial w_j} = \\frac{\\partial \\mathcal{L}^{(n)}}{\\partial \\log q_j} \\frac{\\partial \\log q_j}{\\partial w_j}= \\delta^q_j \\cdot h$, in this formula, the role of $x$ has been taken over by $h$. This is because the role of the inputs $x$ has now been taken over by the non-linearity $h$.\n",
    "\n",
    "We have\n",
    "$\\frac{\\partial \\mathcal{L}^{(n)}}{\\partial b_j} = \\frac{\\partial \\mathcal{L}^{(n)}}{\\partial \\log q_j} \\frac{\\partial \\log q_j}{\\partial b_j} = \\delta^q_j \\cdot 1$ which is equal to the old formula. This because the bias on $b$ is not affected by the non-linearity $h$.\n",
    "\n",
    "$\\frac{\\partial \\mathcal{L}^{(n)}}{\\partial v_j} = \\frac{\\partial \\mathcal{L}^{(n)}}{\\partial \\log q_j} \\frac{\\partial \\log q_j}{\\partial v_j}= \\delta^q_j \\cdot w_j \\frac{\\partial h}{\\partial v_j} = \\delta^q_j \\cdot w_j \\sigma(v_j^\\top x + a_j)(1-\\sigma(v_j^\\top x + a_j)) \\cdot x$\n",
    "\n",
    "\n",
    "$\\frac{\\partial \\mathcal{L}^{(n)}}{\\partial a} = \\delta^q_j \\cdot w_j \\sigma(v^\\top x + a)(1-\\sigma(v^\\top x + a))$ "
   ]
  },
  {
   "cell_type": "markdown",
   "metadata": {},
   "source": [
    "## 2.2 MAP optimization (10 points)\n",
    "\n",
    "You derived equations for finding the _maximum likelihood_ solution of the parameters. Explain, in a few sentences, how you could extend this approach so that it optimizes towards a _maximum a posteriori_ (MAP) solution of the parameters, with a Gaussian prior on the parameters. \n",
    "\n",
    "#####Answer: "
   ]
  },
  {
   "cell_type": "markdown",
   "metadata": {},
   "source": [
    "For the MLE, we calculate $\\mathcal{L}^{(n)} = \\log p(t = t^{(n)} \\mid x = x^{(n)}, b, W)$, derive and set to 0 to find the maximum of the log-likelihood. \n",
    "\n",
    "For the MAP solution, we would derive $\\log p(t = t^{(n)} \\mid x = x^{(n)}, b, W, V, a) + \\log p(b, W, V, a)$, where $p(b,W, V, a)$ is the probability of those parametrs, according tho the priors, and set that to 0 and so on."
   ]
  },
  {
   "cell_type": "markdown",
   "metadata": {},
   "source": [
    "## 2.3. Implement and train a MLP (15 points)\n",
    "\n",
    "Implement a MLP model with a single hidden layer, and code to train the model."
   ]
  },
  {
   "cell_type": "code",
   "execution_count": null,
   "metadata": {
    "collapsed": false
   },
   "outputs": [],
   "source": [
    "#log q_j=w^T_j * x+b_j\n",
    "\n",
    "def get_log_p2(x,t,w,b):\n",
    "    #print 'w.shape:', w.shape\n",
    "    #print 'x.shape:', x.shape\n",
    "    #print 'b.shape:', b.shape\n",
    "    log_q = np.dot(w.T, x) +b #note: log_q isn't a log(...)???\n",
    "    #print 'log_q.shape:', log_q.shape\n",
    "    \n",
    "    Z = np.sum(np.exp(log_q))\n",
    "    a = np.max(log_q)\n",
    "    Za = np.sum(np.exp(log_q - a))\n",
    "    log_Z = ( a + np.log(Za))\n",
    "    log_p = log_q -log_Z\n",
    "    return Z, log_q, log_p[t][0]\n",
    "\n",
    "def sigma(x):\n",
    "    return 1.0/(1+np.exp(-1*x))\n",
    "    \n",
    "\n",
    "def logreg_gradient2(x,t,w,b, V, a):\n",
    "    x = x.reshape((-1, 1))\n",
    "    b = b.reshape((-1, 1))\n",
    "    Z, log_q, log_p = get_log_p2(x,t,w,b)\n",
    "    #print 'log_p.shape:', log_p.shape\n",
    "    delta_q = -1/Z * np.exp(log_q)\n",
    "#     print 'delta_q.shape:', delta_q.shape\n",
    "    delta_q[t] +=1\n",
    "    h = sigma(np.dot(v, x) + a)\n",
    "    nabla_W = delta_q.T * h\n",
    "    nabla_b = delta_q\n",
    "    nabla_V = delta_q.T * w *  h * (1-h) x\n",
    "    nabla_a = delta_q * w * h * (1- h)\n",
    "    \n",
    "    return nabla_W, nabla_b, nabla_V, nabla_a, log_p\n",
    "    \n",
    "W = np.zeros((784, 10))\n",
    "b = np.zeros(10)\n",
    "V = np.zeros((784, 10))\n",
    "a = np.zeros(10)\n",
    "nabla_W, nabla_b, nablaV, nabla_a, log_p = logreg_gradient2(x_train[1], t_train[1], W, b, V, a) \n",
    "plot_digits(nabla_W.T, numcols=5)\n",
    "print nabla_b\n",
    "    \n",
    "#def sgd_iter2():"
   ]
  },
  {
   "cell_type": "markdown",
   "metadata": {},
   "source": [
    "### 2.3.1. Less than 250 misclassifications on the test set (10 bonus points)\n",
    "\n",
    "You receive an additional 10 bonus points if you manage to train a model with very high accuracy: at most 2.5% misclasified digits on the test set. Note that the test set contains 10000 digits, so you model should misclassify at most 250 digits. This should be achievable with a MLP model with one hidden layer. See results of various models at : `http://yann.lecun.com/exdb/mnist/index.html`. To reach such a low accuracy, you probably need to have a very high $L$ (many hidden units), probably $L > 200$, and apply a strong Gaussian prior on the weights. In this case you are allowed to use the validation set for training.\n",
    "You are allowed to add additional layers, and use convolutional networks, although that is probably not required to reach 2.5% misclassifications."
   ]
  },
  {
   "cell_type": "code",
   "execution_count": null,
   "metadata": {
    "collapsed": false
   },
   "outputs": [],
   "source": []
  }
 ],
 "metadata": {
  "kernelspec": {
   "display_name": "Python 2",
   "language": "python",
   "name": "python2"
  },
  "language_info": {
   "codemirror_mode": {
    "name": "ipython",
    "version": 2
   },
   "file_extension": ".py",
   "mimetype": "text/x-python",
   "name": "python",
   "nbconvert_exporter": "python",
   "pygments_lexer": "ipython2",
   "version": "2.7.8"
  }
 },
 "nbformat": 4,
 "nbformat_minor": 0
}
