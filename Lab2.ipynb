{
 "cells": [
  {
   "cell_type": "markdown",
   "metadata": {},
   "source": [
    "# Lab 2: Classification\n",
    "\n",
    "### Machine Learning 1, September 2015\n",
    "\n",
    "* The lab exercises should be made in groups of two, three or four people.\n",
    "* The deadline is October 4th (Sunday) 23:59.\n",
    "* Assignment should be sent to Philip Versteeg (p.j.j.p.versteeg@uva.nl). The subject line of your email should be \"lab\\#\\_lastname1\\_lastname2\\_lastname3\".\n",
    "* Put your and your teammates' names in the body of the email\n",
    "* Attach the .IPYNB (IPython Notebook) file containing your code and answers. Naming of the file follows the same rule as the subject line. For example, if the subject line is \"lab01\\_Kingma\\_Hu\", the attached file should be \"lab01\\_Kingma\\_Hu.ipynb\". Only use underscores (\"\\_\") to connect names, otherwise the files cannot be parsed.\n",
    "\n",
    "Notes on implementation:\n",
    "\n",
    "* For this notebook you need to answer a few theory questions, add them in the Markdown cell's below the question. Note: you can use Latex-style code in here.\n",
    "* Focus on Part 1 the first week, and Part 2 the second week!\n",
    "* You should write your code and answers below the questions in this IPython Notebook.\n",
    "* Among the first lines of your notebook should be \"%pylab inline\". This imports all required modules, and your plots will appear inline.\n",
    "* If you have questions outside of the labs, post them on blackboard or email me.\n",
    "* NOTE: Make sure we can run your notebook / scripts!\n",
    "\n",
    "$\\newcommand{\\bx}{\\mathbf{x}}$\n",
    "$\\newcommand{\\bw}{\\mathbf{w}}$\n",
    "$\\newcommand{\\bt}{\\mathbf{t}}$\n",
    "$\\newcommand{\\by}{\\mathbf{y}}$\n",
    "$\\newcommand{\\bm}{\\mathbf{m}}$\n",
    "$\\newcommand{\\bb}{\\mathbf{b}}$\n",
    "$\\newcommand{\\bS}{\\mathbf{S}}$\n",
    "$\\newcommand{\\ba}{\\mathbf{a}}$\n",
    "$\\newcommand{\\bz}{\\mathbf{z}}$\n",
    "$\\newcommand{\\bv}{\\mathbf{v}}$\n",
    "$\\newcommand{\\bq}{\\mathbf{q}}$\n",
    "$\\newcommand{\\bp}{\\mathbf{p}}$\n",
    "$\\newcommand{\\bh}{\\mathbf{h}}$\n",
    "$\\newcommand{\\bI}{\\mathbf{I}}$\n",
    "$\\newcommand{\\bX}{\\mathbf{X}}$\n",
    "$\\newcommand{\\bT}{\\mathbf{T}}$\n",
    "$\\newcommand{\\bPhi}{\\mathbf{\\Phi}}$\n",
    "$\\newcommand{\\bW}{\\mathbf{W}}$\n",
    "$\\newcommand{\\bV}{\\mathbf{V}}$"
   ]
  },
  {
   "cell_type": "code",
   "execution_count": 105,
   "metadata": {
    "collapsed": false
   },
   "outputs": [
    {
     "name": "stdout",
     "output_type": "stream",
     "text": [
      "Populating the interactive namespace from numpy and matplotlib\n"
     ]
    }
   ],
   "source": [
    "%pylab inline\n",
    "import gzip, cPickle"
   ]
  },
  {
   "cell_type": "markdown",
   "metadata": {},
   "source": [
    "# Part 1. Multiclass logistic regression\n",
    "\n",
    "Scenario: you have a friend with one big problem: she's completely blind. You decided to help her: she has a special smartphone for blind people, and you are going to develop a mobile phone app that can do _machine vision_ using the mobile camera: converting a picture (from the camera) to the meaning of the image. You decide to start with an app that can read handwritten digits, i.e. convert an image of handwritten digits to text (e.g. it would enable her to read precious handwritten phone numbers).\n",
    "\n",
    "A key building block for such an app would be a function `predict_digit(x)` that returns the digit class of an image patch $\\bx$. Since hand-coding this function is highly non-trivial, you decide to solve this problem using machine learning, such that the internal parameters of this function are automatically learned using machine learning techniques.\n",
    "\n",
    "The dataset you're going to use for this is the MNIST handwritten digits dataset (`http://yann.lecun.com/exdb/mnist/`). You can load the data from `mnist.pkl.gz` we provided, using: "
   ]
  },
  {
   "cell_type": "code",
   "execution_count": 106,
   "metadata": {
    "collapsed": false,
    "scrolled": true
   },
   "outputs": [],
   "source": [
    "def load_mnist():\n",
    "    f = gzip.open('mnist.pkl.gz', 'rb')\n",
    "    data = cPickle.load(f)\n",
    "    f.close()\n",
    "    return data\n",
    "\n",
    "(x_train, t_train), (x_valid, t_valid), (x_test, t_test) = load_mnist()\n"
   ]
  },
  {
   "cell_type": "markdown",
   "metadata": {},
   "source": [
    "The tuples represent train, validation and test sets. The first element (`x_train`, `x_valid`, `x_test`) of each tuple is a $N \\times M$ matrix, where $N$ is the number of datapoints and $M = 28^2 = 784$ is the dimensionality of the data. The second element (`t_train`, `t_valid`, `t_test`) of each tuple is the corresponding $N$-dimensional vector of integers, containing the true class labels.\n",
    "\n",
    "Here's a visualisation of the first 8 digits of the trainingset:"
   ]
  },
  {
   "cell_type": "code",
   "execution_count": 107,
   "metadata": {
    "collapsed": false
   },
   "outputs": [
    {
     "data": {
      "image/png": "[encoded data removed]",
      "text/plain": [
       "<matplotlib.figure.Figure at 0xc05fa58>"
      ]
     },
     "metadata": {},
     "output_type": "display_data"
    }
   ],
   "source": [
    "def plot_digits(data, numcols, shape=(28,28)):\n",
    "    numdigits = data.shape[0]\n",
    "    numrows = int(numdigits/numcols)\n",
    "    for i in range(numdigits):\n",
    "        plt.subplot(numrows, numcols, i)\n",
    "        plt.axis('off')\n",
    "        plt.imshow(data[i].reshape(shape), interpolation='nearest', cmap='Greys')\n",
    "    plt.show()\n",
    "    \n",
    "plot_digits(x_train[0:8], numcols=4)"
   ]
  },
  {
   "cell_type": "markdown",
   "metadata": {},
   "source": [
    "In _multiclass_ logistic regression, the conditional probability of class label $j$ given the image $\\bx$ for some datapoint is given by:\n",
    "\n",
    "$ \\log p(t = j \\;|\\; \\bx, \\bb, \\bW) = \\log q_j - \\log Z$\n",
    "\n",
    "where $\\log q_j = w_j^T x + b_j$ (the log of the unnormalized probability of the class $j$), and $Z = \\sum_k q_k$ is the normalizing factor. $\\bw_j$ is the $j$-th column of $\\bW$ (a matrix of size $784 \\times 10$) corresponding to the class label, $b_j$ is the $j$-th element of $\\bb$.\n",
    "\n",
    "Given an input image, the multiclass logistic regression model first computes the intermediate vector $\\log \\bq$ (of size $10 \\times 1$), using $\\log q_j = \\bw_j^T \\bx + b_j$, containing the unnormalized log-probabilities per class. \n",
    "\n",
    "The unnormalized probabilities are then normalized by $Z$ such that $\\sum_j p_j = \\sum_j \\exp(\\log p_j) = 1$. This is done by $\\log p_j = \\log q_j - \\log Z$ where $Z = \\sum_j \\exp(\\log q_j)$. This is known as the _softmax_ transformation, and is also used as a last layer of many classifcation neural network models, to ensure that the output of the network is a normalized distribution, regardless of the values of second-to-last layer ($\\log \\bq$)\n",
    "\n",
    "Warning: when computing $\\log Z$, you are likely to encounter numerical problems. Save yourself countless hours of debugging and learn the [log-sum-exp trick](https://hips.seas.harvard.edu/blog/2013/01/09/computing-log-sum-exp/ \"Title\").\n",
    "\n",
    "The network's output $\\log \\bp$ of size $10 \\times 1$ then contains the conditional log-probabilities $\\log p(t = j \\;|\\; \\bx, \\bb, \\bW)$ for each digit class $j$. In summary, the computations are done in this order:\n",
    "\n",
    "$\\bx \\rightarrow \\log \\bq \\rightarrow Z \\rightarrow \\log \\bp$\n",
    "\n",
    "Given some dataset with $N$ independent, identically distributed datapoints, the log-likelihood is given by:\n",
    "\n",
    "$ \\mathcal{L}(\\bb, \\bW) = \\sum_{n=1}^N \\mathcal{L}^{(n)}$\n",
    "\n",
    "where we use $\\mathcal{L}^{(n)}$ to denote the partial log-likelihood evaluated over a single datapoint. It is important to see that the log-probability of the class label $t^{(n)}$ given the image, is given by the $t^{(n)}$-th element of the network's output $\\log \\bp$, denoted by $\\log p_{t^{(n)}}$:\n",
    "\n",
    "$\\mathcal{L}^{(n)} = \\log p(t = t^{(n)} \\;|\\; \\bx = \\bx^{(n)}, \\bb, \\bW) = \\log p_{t^{(n)}} = \\log q_{t^{(n)}} - \\log Z^{(n)}$\n",
    "\n",
    "where $\\bx^{(n)}$ and $t^{(n)}$ are the input (image) and class label (integer) of the $n$-th datapoint, and $Z^{(n)}$ is the normalizing constant for the distribution over $t^{(n)}$.\n"
   ]
  },
  {
   "cell_type": "markdown",
   "metadata": {},
   "source": [
    "## 1.1 Gradient-based stochastic optimization\n",
    "\n",
    "### 1.1.1 Derive gradient equations (20 points)\n",
    "\n",
    "Derive the equations for computing the (first) partial derivatives of the log-likelihood w.r.t. all the parameters, evaluated at a _single_ datapoint $n$.\n",
    "\n",
    "You should start deriving the equations for $\\frac{\\partial \\mathcal{L}^{(n)}}{\\partial \\log q_j}$ for each $j$. For clarity, we'll use the shorthand $\\delta^q_j = \\frac{\\partial \\mathcal{L}^{(n)}}{\\partial \\log q_j}$.\n",
    "\n",
    "For $j = t^{(n)}$:\n",
    "$\n",
    "\\delta^q_j\n",
    "= \\frac{\\partial \\mathcal{L}^{(n)}}{\\partial \\log p_j}\n",
    "\\frac{\\partial \\log p_j}{\\partial \\log q_j}\n",
    "+ \\frac{\\partial \\mathcal{L}^{(n)}}{\\partial \\log Z}\n",
    "\\frac{\\partial \\log Z}{\\partial Z} \n",
    "\\frac{\\partial Z}{\\partial \\log q_j} \n",
    "= 1 \\cdot 1 - \\frac{\\partial \\log Z}{\\partial Z} \n",
    "\\frac{\\partial Z}{\\partial \\log q_j}\n",
    "= 1 - \\frac{\\partial \\log Z}{\\partial Z} \n",
    "\\frac{\\partial Z}{\\partial \\log q_j}\n",
    "$\n",
    "\n",
    "For $j \\neq t^{(n)}$:\n",
    "$\n",
    "\\delta^q_j\n",
    "= \\frac{\\partial \\mathcal{L}^{(n)}}{\\partial \\log Z}\n",
    "\\frac{\\partial \\log Z}{\\partial Z} \n",
    "\\frac{\\partial Z}{\\partial \\log q_j} \n",
    "= - \\frac{\\partial \\log Z}{\\partial Z} \n",
    "\\frac{\\partial Z}{\\partial \\log q_j}\n",
    "$\n",
    "\n",
    "Complete the above derivations for $\\delta^q_j$ by furtherly developing $\\frac{\\partial \\log Z}{\\partial Z}$ and $\\frac{\\partial Z}{\\partial \\log q_j}$. Both are quite simple. For these it doesn't matter whether $j = t^{(n)}$ or not.\n",
    "\n",
    "Given your equations for computing the gradients $\\delta^q_j$ it should be quite straightforward to derive the equations for the gradients of the parameters of the model, $\\frac{\\partial \\mathcal{L}^{(n)}}{\\partial W_{ij}}$ and $\\frac{\\partial \\mathcal{L}^{(n)}}{\\partial b_j}$. The gradients for the biases $\\bb$ are given by:\n",
    "\n",
    "$\n",
    "\\frac{\\partial \\mathcal{L}^{(n)}}{\\partial b_j}\n",
    "= \\frac{\\partial \\mathcal{L}^{(n)}}{\\partial \\log q_j}\n",
    "\\frac{\\partial \\log q_j}{\\partial b_j}\n",
    "= \\delta^q_j\n",
    "\\cdot 1\n",
    "= \\delta^q_j\n",
    "$\n",
    "\n",
    "The equation above gives the derivative of $\\mathcal{L}^{(n)}$ w.r.t. a single element of $\\bb$, so the vector $\\nabla_\\bb \\mathcal{L}^{(n)}$ with all derivatives of $\\mathcal{L}^{(n)}$ w.r.t. the bias parameters $\\bb$ is: \n",
    "\n",
    "$\n",
    "\\nabla_\\bb \\mathcal{L}^{(n)} = \\mathbf{\\delta}^q\n",
    "$\n",
    "\n",
    "where $\\mathbf{\\delta}^q$ denotes the vector of size $10 \\times 1$ with elements $\\mathbf{\\delta}_j^q$.\n",
    "\n",
    "The (not fully developed) equation for computing the derivative of $\\mathcal{L}^{(n)}$ w.r.t. a single element $W_{ij}$ of $\\bW$ is:\n",
    "\n",
    "$\n",
    "\\frac{\\partial \\mathcal{L}^{(n)}}{\\partial W_{ij}} =\n",
    "\\frac{\\partial \\mathcal{L}^{(n)}}{\\partial \\log q_j}\n",
    "\\frac{\\partial \\log q_j}{\\partial W_{ij}}\n",
    "= \\mathbf{\\delta}_j^q\n",
    "\\frac{\\partial \\log q_j}{\\partial W_{ij}}\n",
    "$\n",
    "\n",
    "What is $\\frac{\\partial \\log q_j}{\\partial W_{ij}}$? Complete the equation above.\n",
    "\n",
    "If you want, you can give the resulting equation in vector format ($\\nabla_{\\bw_j} \\mathcal{L}^{(n)} = ...$), like we did for $\\nabla_\\bb \\mathcal{L}^{(n)}$.\n",
    "\n",
    "#####Answer: "
   ]
  },
  {
   "cell_type": "markdown",
   "metadata": {},
   "source": [
    "$$\\nabla_{w_j} \\mathcal{L}^{(n)} = \\delta^q_j \\frac{\\partial \\log q_j}{\\partial W_j} = \\delta^q_j \\cdot x$$"
   ]
  },
  {
   "cell_type": "markdown",
   "metadata": {},
   "source": [
    "### 1.1.2 Implement gradient computations (10 points)\n",
    "\n",
    "Implement the gradient calculations you derived in the previous question. Write a function `logreg_gradient(x, t, w, b)` that returns the gradients $\\nabla_{w_j} \\mathcal{L}^{(n)}$ (for each $j$) and $\\nabla_{b} \\mathcal{L}^{(n)}$, i.e. the first partial derivatives of the log-likelihood w.r.t. the parameters $W$ and $b$, evaluated at a single datapoint (`x`, `t`).\n",
    "The computation will contain roughly the following intermediate variables:\n",
    "\n",
    "$\n",
    "\\log q \\rightarrow Z \\rightarrow \\log p\\,,\\, \\mathbf{\\delta}^q\n",
    "$\n",
    "\n",
    "followed by computation of the gradient vectors $\\nabla_{w_j} \\mathcal{L}^{(n)}$ (contained in a $784 \\times 10$ matrix) and $\\nabla_{b} \\mathcal{L}^{(n)}$ (a $10 \\times 1$ vector).\n"
   ]
  },
  {
   "cell_type": "code",
   "execution_count": 108,
   "metadata": {
    "collapsed": false
   },
   "outputs": [
    {
     "name": "stdout",
     "output_type": "stream",
     "text": [
      "[[-0. -0. -0. ..., -0. -0. -0.]\n",
      " [-0. -0. -0. ..., -0. -0. -0.]\n",
      " [-0. -0. -0. ..., -0. -0. -0.]\n",
      " ..., \n",
      " [-0. -0. -0. ..., -0. -0. -0.]\n",
      " [-0. -0. -0. ..., -0. -0. -0.]\n",
      " [-0. -0. -0. ..., -0. -0. -0.]]\n",
      "[[-0.1]\n",
      " [-0.1]\n",
      " [-0.1]\n",
      " [-0.1]\n",
      " [-0.1]\n",
      " [ 0.9]\n",
      " [-0.1]\n",
      " [-0.1]\n",
      " [-0.1]\n",
      " [-0.1]]\n"
     ]
    }
   ],
   "source": [
    "#log q_j=w^T_j * x+b_j\n",
    "\n",
    "def get_log_p(x,t,w,b):\n",
    "    #print 'w.shape:', w.shape\n",
    "    #print 'x.shape:', x.shape\n",
    "    #print 'b.shape:', b.shape\n",
    "    log_q = np.dot(w.T, x) +b #note: log_q isn't a log(...)???\n",
    "    #print 'log_q.shape:', log_q.shape\n",
    "    \n",
    "    Z = np.sum(np.exp(log_q))\n",
    "    a = np.max(log_q)\n",
    "    Za = np.sum(np.exp(log_q - a))\n",
    "    log_p = log_q -( a + np.log(Za))\n",
    "    return Z, log_q, log_p[t][0]\n",
    "    \n",
    "\n",
    "def logreg_gradient(x,t,w,b):\n",
    "    x = x.reshape((-1, 1))\n",
    "    b = b.reshape((-1, 1))\n",
    "    Z, log_q, log_p = get_log_p(x,t,w,b)\n",
    "    #print 'log_p.shape:', log_p.shape\n",
    "    delta_q = -1/Z * np.exp(log_q)\n",
    "    #print 'delta_q.shape:', delta_q.shape\n",
    "    delta_q[t] +=1\n",
    "    nabla_W = delta_q.T * x\n",
    "    nabla_b = delta_q\n",
    "    return nabla_W, nabla_b, log_p\n",
    "    \n",
    "W = np.zeros((784, 10))\n",
    "b = np.zeros(10)\n",
    "nabla_W, nabla_b, _ = logreg_gradient(x_train[0], t_train[0], W, b) \n",
    "print nabla_W\n",
    "print nabla_b\n"
   ]
  },
  {
   "cell_type": "markdown",
   "metadata": {},
   "source": [
    "\n",
    "### 1.1.3 Stochastic gradient descent (10 points)\n",
    "\n",
    "Write a function `sgd_iter(x_train, t_train, w, b)` that performs one iteration of stochastic gradient descent (SGD), and returns the new weights. It should go through the trainingset once in randomized order, call `logreg_gradient(x, t, w, b)` for each datapoint to get the gradients, and update the parameters using a small learning rate (e.g. `1E-4`). Note that in this case we're maximizing the likelihood function, so we should actually performing gradient ___ascent___... For more information about SGD, see Bishop 5.2.4 or an online source (i.e. https://en.wikipedia.org/wiki/Stochastic_gradient_descent)"
   ]
  },
  {
   "cell_type": "code",
   "execution_count": 109,
   "metadata": {
    "collapsed": false
   },
   "outputs": [
    {
     "name": "stdout",
     "output_type": "stream",
     "text": [
      "-8.83448345716e-05\n",
      "-0.000176619556333\n",
      "-0.000264825503022\n",
      "-0.000352767072814\n",
      "-0.000440772412431\n",
      "-0.000528777908981\n",
      "-0.000616634248219\n",
      "-0.000704538120826\n",
      "-0.000792282350805\n",
      "-0.000879991396154\n"
     ]
    }
   ],
   "source": [
    "def sgd_iter(x_train, t_train, w, b):\n",
    "    learn_rate = 1e-4\n",
    "    b = b.reshape((-1, 1))\n",
    "    perm = np.random.permutation(x_train.shape[0])\n",
    "    sum_log_p = 0\n",
    "    for i in perm:\n",
    "        nabla_W, nabla_b, log_p = logreg_gradient(x_train[i], t_train[i], w, b)\n",
    "        w += nabla_W * learn_rate\n",
    "        b += nabla_b * learn_rate\n",
    "        sum_log_p += log_p\n",
    "        \n",
    "    return w, b, sum_log_p\n",
    "        \n",
    "W = np.zeros((784, 10))\n",
    "b = np.zeros(10)\n",
    "for i in range(10):\n",
    "    W, b, _ = sgd_iter(x_train[:11], t_train[:11], W, b)    \n",
    "    print np.min(W)"
   ]
  },
  {
   "cell_type": "markdown",
   "metadata": {},
   "source": [
    "## 1.2. Train\n",
    "\n",
    "### 1.2.1 Train (10 points)\n",
    "Perform a handful of training iterations through the trainingset. Plot (in one graph) the conditional log-probability of the trainingset and validation set after each iteration.\n"
   ]
  },
  {
   "cell_type": "code",
   "execution_count": 112,
   "metadata": {
    "collapsed": false
   },
   "outputs": [
    {
     "data": {
      "image/png": "[encoded data removed]",
      "text/plain": [
       "<matplotlib.figure.Figure at 0xb9c09b0>"
      ]
     },
     "metadata": {},
     "output_type": "display_data"
    }
   ],
   "source": [
    "plot_list = []\n",
    "vplot_list = []\n",
    "for i in range(50):\n",
    "    W, b, log_p = sgd_iter(x_train[:1000], t_train[:1000], W, b)\n",
    "    plot_list.append(log_p)\n",
    "    sum_vlog_p=0\n",
    "    for j in range(1000):\n",
    "        _,_,vlog_p = get_log_p(x_valid[j],t_valid[j],W,b)\n",
    "        sum_vlog_p+=vlog_p\n",
    "    vplot_list.append(sum_vlog_p)\n",
    "plt.plot(plot_list)\n",
    "plt.plot(vplot_list)\n",
    "plt.show()"
   ]
  },
  {
   "cell_type": "markdown",
   "metadata": {},
   "source": [
    "### 1.2.2 Visualize weights (10 points)\n",
    "Visualize the resulting parameters $\\bW$ after a few iterations through the training set, by treating each column of $\\bW$ as an image. If you want, you can use or edit the `plot_digits(...)` above."
   ]
  },
  {
   "cell_type": "code",
   "execution_count": 130,
   "metadata": {
    "collapsed": false
   },
   "outputs": [
    {
     "data": {
      "image/png": "[encoded data removed]",
      "text/plain": [
       "<matplotlib.figure.Figure at 0xc243160>"
      ]
     },
     "metadata": {},
     "output_type": "display_data"
    }
   ],
   "source": [
    "plot_digits(W.T, numcols=5)"
   ]
  },
  {
   "cell_type": "markdown",
   "metadata": {},
   "source": [
    "### 1.2.3. Visualize the 8 hardest and 8 easiest digits (10 points)\n",
    "Visualize the 8 digits in the validation set with the highest probability of the true class label under the model.\n",
    "Also plot the 8 digits that were assigned the lowest probability.\n",
    "Ask yourself if these results make sense."
   ]
  },
  {
   "cell_type": "code",
   "execution_count": null,
   "metadata": {
    "collapsed": false
   },
   "outputs": [],
   "source": []
  },
  {
   "cell_type": "markdown",
   "metadata": {},
   "source": [
    "# Part 2. Multilayer perceptron\n",
    "\n",
    "\n",
    "You discover that the predictions by the logistic regression classifier are not good enough for your application: the model is too simple. You want to increase the accuracy of your predictions by using a better model. For this purpose, you're going to use a multilayer perceptron (MLP), a simple kind of neural network. The perceptron wil have a single hidden layer $\\bh$ with $L$ elements. The parameters of the model are $\\bV$ (connections between input $\\bx$ and hidden layer $\\bh$), $\\ba$ (the biases/intercepts of $\\bh$), $\\bW$ (connections between $\\bh$ and $\\log q$) and $\\bb$ (the biases/intercepts of $\\log q$.\n",
    "\n",
    "The conditional probability of the class label $j$ is given by:\n",
    "\n",
    "$\\log p(t = j \\;|\\; \\bx, \\bb, \\bW) = \\log q_j - \\log Z$\n",
    "\n",
    "where $q_j$ are again the unnormalized probabilities per class, and $Z = \\sum_j q_j$ is again the probability normalizing factor. Each $q_j$ is computed using:\n",
    "\n",
    "$\\log q_j = \\bw_j^T \\bh + b_j$\n",
    "\n",
    "where $\\bh$ is a $L \\times 1$ vector with the hidden layer activations (of a hidden layer with size $L$), and $\\bw_j$ is the $j$-th column of $\\bW$ (a $L \\times 10$ matrix). Each element of the hidden layer is computed from the input vector $\\bx$ using:\n",
    "\n",
    "$h_j = \\sigma(\\bv_j^T \\bx + a_j)$\n",
    "\n",
    "where $\\bv_j$ is the $j$-th column of $\\bV$ (a $784 \\times L$ matrix), $a_j$ is the $j$-th element of $\\ba$, and $\\sigma(.)$ is the so-called sigmoid activation function, defined by:\n",
    "\n",
    "$\\sigma(x) = \\frac{1}{1 + \\exp(-x)}$\n",
    "\n",
    "Note that this model is almost equal to the multiclass logistic regression model, but with an extra 'hidden layer' $\\bh$. The activations of this hidden layer can be viewed as features computed from the input, where the feature transformation ($\\bV$ and $\\ba$) is learned.\n",
    "\n",
    "## 2.1 Derive gradient equations (20 points)\n",
    "\n",
    "State (shortly) why $\\nabla_{\\bb} \\mathcal{L}^{(n)}$ is equal to the earlier (multiclass logistic regression) case, and why $\\nabla_{\\bw_j} \\mathcal{L}^{(n)}$ is almost equal to the earlier case.\n",
    "\n",
    "Like in multiclass logistic regression, you should use intermediate variables $\\mathbf{\\delta}_j^q$. In addition, you should use intermediate variables $\\mathbf{\\delta}_j^h = \\frac{\\partial \\mathcal{L}^{(n)}}{\\partial h_j}$.\n",
    "\n",
    "Given an input image, roughly the following intermediate variables should be computed:\n",
    "\n",
    "$\n",
    "\\log \\bq \\rightarrow Z \\rightarrow \\log \\bp \\rightarrow \\mathbf{\\delta}^q \\rightarrow \\mathbf{\\delta}^h\n",
    "$\n",
    "\n",
    "where $\\mathbf{\\delta}_j^h = \\frac{\\partial \\mathcal{L}^{(n)}}{\\partial \\bh_j}$.\n",
    "\n",
    "Give the equations for computing $\\mathbf{\\delta}^h$, and for computing the derivatives of $\\mathcal{L}^{(n)}$ w.r.t. $\\bW$, $\\bb$, $\\bV$ and $\\ba$. \n",
    "\n",
    "You can use the convenient fact that $\\frac{\\partial}{\\partial x} \\sigma(x) = \\sigma(x) (1 - \\sigma(x))$.\n",
    "\n",
    "#####Answer: "
   ]
  },
  {
   "cell_type": "markdown",
   "metadata": {},
   "source": [
    "[insert answer in this Markdown cell]"
   ]
  },
  {
   "cell_type": "markdown",
   "metadata": {},
   "source": [
    "## 2.2 MAP optimization (10 points)\n",
    "\n",
    "You derived equations for finding the _maximum likelihood_ solution of the parameters. Explain, in a few sentences, how you could extend this approach so that it optimizes towards a _maximum a posteriori_ (MAP) solution of the parameters, with a Gaussian prior on the parameters. \n",
    "\n",
    "#####Answer: "
   ]
  },
  {
   "cell_type": "markdown",
   "metadata": {},
   "source": [
    "[insert answer in this Markdown cell]"
   ]
  },
  {
   "cell_type": "markdown",
   "metadata": {},
   "source": [
    "## 2.3. Implement and train a MLP (15 points)\n",
    "\n",
    "Implement a MLP model with a single hidden layer, and code to train the model."
   ]
  },
  {
   "cell_type": "code",
   "execution_count": null,
   "metadata": {
    "collapsed": false
   },
   "outputs": [],
   "source": []
  },
  {
   "cell_type": "markdown",
   "metadata": {},
   "source": [
    "### 2.3.1. Less than 250 misclassifications on the test set (10 bonus points)\n",
    "\n",
    "You receive an additional 10 bonus points if you manage to train a model with very high accuracy: at most 2.5% misclasified digits on the test set. Note that the test set contains 10000 digits, so you model should misclassify at most 250 digits. This should be achievable with a MLP model with one hidden layer. See results of various models at : `http://yann.lecun.com/exdb/mnist/index.html`. To reach such a low accuracy, you probably need to have a very high $L$ (many hidden units), probably $L > 200$, and apply a strong Gaussian prior on the weights. In this case you are allowed to use the validation set for training.\n",
    "You are allowed to add additional layers, and use convolutional networks, although that is probably not required to reach 2.5% misclassifications."
   ]
  },
  {
   "cell_type": "code",
   "execution_count": null,
   "metadata": {
    "collapsed": false
   },
   "outputs": [],
   "source": []
  }
 ],
 "metadata": {
  "kernelspec": {
   "display_name": "Python 2",
   "language": "python",
   "name": "python2"
  },
  "language_info": {
   "codemirror_mode": {
    "name": "ipython",
    "version": 2
   },
   "file_extension": ".py",
   "mimetype": "text/x-python",
   "name": "python",
   "nbconvert_exporter": "python",
   "pygments_lexer": "ipython2",
   "version": "2.7.10"
  }
 },
 "nbformat": 4,
 "nbformat_minor": 0
}
