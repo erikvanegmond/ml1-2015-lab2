{
 "cells": [
  {
   "cell_type": "markdown",
   "metadata": {},
   "source": [
    "# Lab 2: Classification\n",
    "\n",
    "### Machine Learning 1, September 2015\n",
    "\n",
    "* The lab exercises should be made in groups of two, three or four people.\n",
    "* The deadline is October 4th (Sunday) 23:59.\n",
    "* Assignment should be sent to Philip Versteeg (p.j.j.p.versteeg@uva.nl). The subject line of your email should be \"lab\\#\\_lastname1\\_lastname2\\_lastname3\".\n",
    "* Put your and your teammates' names in the body of the email\n",
    "* Attach the .IPYNB (IPython Notebook) file containing your code and answers. Naming of the file follows the same rule as the subject line. For example, if the subject line is \"lab01\\_Kingma\\_Hu\", the attached file should be \"lab01\\_Kingma\\_Hu.ipynb\". Only use underscores (\"\\_\") to connect names, otherwise the files cannot be parsed.\n",
    "\n",
    "Notes on implementation:\n",
    "\n",
    "* For this notebook you need to answer a few theory questions, add them in the Markdown cell's below the question. Note: you can use Latex-style code in here.\n",
    "* Focus on Part 1 the first week, and Part 2 the second week!\n",
    "* You should write your code and answers below the questions in this IPython Notebook.\n",
    "* Among the first lines of your notebook should be \"%pylab inline\". This imports all required modules, and your plots will appear inline.\n",
    "* If you have questions outside of the labs, post them on blackboard or email me.\n",
    "* NOTE: Make sure we can run your notebook / scripts!\n",
    "\n",
    "$\\newcommand{\\bx}{\\mathbf{x}}$\n",
    "$\\newcommand{\\bw}{\\mathbf{w}}$\n",
    "$\\newcommand{\\bt}{\\mathbf{t}}$\n",
    "$\\newcommand{\\by}{\\mathbf{y}}$\n",
    "$\\newcommand{\\bm}{\\mathbf{m}}$\n",
    "$\\newcommand{\\bb}{\\mathbf{b}}$\n",
    "$\\newcommand{\\bS}{\\mathbf{S}}$\n",
    "$\\newcommand{\\ba}{\\mathbf{a}}$\n",
    "$\\newcommand{\\bz}{\\mathbf{z}}$\n",
    "$\\newcommand{\\bv}{\\mathbf{v}}$\n",
    "$\\newcommand{\\bq}{\\mathbf{q}}$\n",
    "$\\newcommand{\\bp}{\\mathbf{p}}$\n",
    "$\\newcommand{\\bh}{\\mathbf{h}}$\n",
    "$\\newcommand{\\bI}{\\mathbf{I}}$\n",
    "$\\newcommand{\\bX}{\\mathbf{X}}$\n",
    "$\\newcommand{\\bT}{\\mathbf{T}}$\n",
    "$\\newcommand{\\bPhi}{\\mathbf{\\Phi}}$\n",
    "$\\newcommand{\\bW}{\\mathbf{W}}$\n",
    "$\\newcommand{\\bV}{\\mathbf{V}}$"
   ]
  },
  {
   "cell_type": "code",
   "execution_count": 134,
   "metadata": {
    "collapsed": false
   },
   "outputs": [
    {
     "name": "stdout",
     "output_type": "stream",
     "text": [
      "Populating the interactive namespace from numpy and matplotlib\n"
     ]
    }
   ],
   "source": [
    "%pylab inline\n",
    "import gzip, cPickle"
   ]
  },
  {
   "cell_type": "markdown",
   "metadata": {},
   "source": [
    "# Part 1. Multiclass logistic regression\n",
    "\n",
    "Scenario: you have a friend with one big problem: she's completely blind. You decided to help her: she has a special smartphone for blind people, and you are going to develop a mobile phone app that can do _machine vision_ using the mobile camera: converting a picture (from the camera) to the meaning of the image. You decide to start with an app that can read handwritten digits, i.e. convert an image of handwritten digits to text (e.g. it would enable her to read precious handwritten phone numbers).\n",
    "\n",
    "A key building block for such an app would be a function `predict_digit(x)` that returns the digit class of an image patch $\\bx$. Since hand-coding this function is highly non-trivial, you decide to solve this problem using machine learning, such that the internal parameters of this function are automatically learned using machine learning techniques.\n",
    "\n",
    "The dataset you're going to use for this is the MNIST handwritten digits dataset (`http://yann.lecun.com/exdb/mnist/`). You can load the data from `mnist.pkl.gz` we provided, using: "
   ]
  },
  {
   "cell_type": "code",
   "execution_count": 135,
   "metadata": {
    "collapsed": false,
    "scrolled": true
   },
   "outputs": [],
   "source": [
    "def load_mnist():\n",
    "    f = gzip.open('mnist.pkl.gz', 'rb')\n",
    "    data = cPickle.load(f)\n",
    "    f.close()\n",
    "    return data\n",
    "\n",
    "(x_train, t_train), (x_valid, t_valid), (x_test, t_test) = load_mnist()\n"
   ]
  },
  {
   "cell_type": "markdown",
   "metadata": {},
   "source": [
    "The tuples represent train, validation and test sets. The first element (`x_train`, `x_valid`, `x_test`) of each tuple is a $N \\times M$ matrix, where $N$ is the number of datapoints and $M = 28^2 = 784$ is the dimensionality of the data. The second element (`t_train`, `t_valid`, `t_test`) of each tuple is the corresponding $N$-dimensional vector of integers, containing the true class labels.\n",
    "\n",
    "Here's a visualisation of the first 8 digits of the trainingset:"
   ]
  },
  {
   "cell_type": "code",
   "execution_count": 136,
   "metadata": {
    "collapsed": false
   },
   "outputs": [
    {
     "data": {
      "image/png": "[encoded data removed]",
      "text/plain": [
       "<matplotlib.figure.Figure at 0xbba8cf8>"
      ]
     },
     "metadata": {},
     "output_type": "display_data"
    }
   ],
   "source": [
    "def plot_digits(data, numcols, shape=(28,28)):\n",
    "    numdigits = data.shape[0]\n",
    "    numrows = int(numdigits/numcols)\n",
    "    for i in range(numdigits):\n",
    "        plt.subplot(numrows, numcols, i)\n",
    "        plt.axis('off')\n",
    "        plt.imshow(data[i].reshape(shape), interpolation='nearest', cmap='Greys')\n",
    "    plt.show()\n",
    "    \n",
    "plot_digits(x_train[0:8], numcols=4)"
   ]
  },
  {
   "cell_type": "markdown",
   "metadata": {},
   "source": [
    "In _multiclass_ logistic regression, the conditional probability of class label $j$ given the image $\\bx$ for some datapoint is given by:\n",
    "\n",
    "$ \\log p(t = j \\;|\\; \\bx, \\bb, \\bW) = \\log q_j - \\log Z$\n",
    "\n",
    "where $\\log q_j = w_j^T x + b_j$ (the log of the unnormalized probability of the class $j$), and $Z = \\sum_k q_k$ is the normalizing factor. $\\bw_j$ is the $j$-th column of $\\bW$ (a matrix of size $784 \\times 10$) corresponding to the class label, $b_j$ is the $j$-th element of $\\bb$.\n",
    "\n",
    "Given an input image, the multiclass logistic regression model first computes the intermediate vector $\\log \\bq$ (of size $10 \\times 1$), using $\\log q_j = \\bw_j^T \\bx + b_j$, containing the unnormalized log-probabilities per class. \n",
    "\n",
    "The unnormalized probabilities are then normalized by $Z$ such that $\\sum_j p_j = \\sum_j \\exp(\\log p_j) = 1$. This is done by $\\log p_j = \\log q_j - \\log Z$ where $Z = \\sum_j \\exp(\\log q_j)$. This is known as the _softmax_ transformation, and is also used as a last layer of many classifcation neural network models, to ensure that the output of the network is a normalized distribution, regardless of the values of second-to-last layer ($\\log \\bq$)\n",
    "\n",
    "Warning: when computing $\\log Z$, you are likely to encounter numerical problems. Save yourself countless hours of debugging and learn the [log-sum-exp trick](https://hips.seas.harvard.edu/blog/2013/01/09/computing-log-sum-exp/ \"Title\").\n",
    "\n",
    "The network's output $\\log \\bp$ of size $10 \\times 1$ then contains the conditional log-probabilities $\\log p(t = j \\;|\\; \\bx, \\bb, \\bW)$ for each digit class $j$. In summary, the computations are done in this order:\n",
    "\n",
    "$\\bx \\rightarrow \\log \\bq \\rightarrow Z \\rightarrow \\log \\bp$\n",
    "\n",
    "Given some dataset with $N$ independent, identically distributed datapoints, the log-likelihood is given by:\n",
    "\n",
    "$ \\mathcal{L}(\\bb, \\bW) = \\sum_{n=1}^N \\mathcal{L}^{(n)}$\n",
    "\n",
    "where we use $\\mathcal{L}^{(n)}$ to denote the partial log-likelihood evaluated over a single datapoint. It is important to see that the log-probability of the class label $t^{(n)}$ given the image, is given by the $t^{(n)}$-th element of the network's output $\\log \\bp$, denoted by $\\log p_{t^{(n)}}$:\n",
    "\n",
    "$\\mathcal{L}^{(n)} = \\log p(t = t^{(n)} \\;|\\; \\bx = \\bx^{(n)}, \\bb, \\bW) = \\log p_{t^{(n)}} = \\log q_{t^{(n)}} - \\log Z^{(n)}$\n",
    "\n",
    "where $\\bx^{(n)}$ and $t^{(n)}$ are the input (image) and class label (integer) of the $n$-th datapoint, and $Z^{(n)}$ is the normalizing constant for the distribution over $t^{(n)}$.\n"
   ]
  },
  {
   "cell_type": "markdown",
   "metadata": {},
   "source": [
    "## 1.1 Gradient-based stochastic optimization\n",
    "\n",
    "### 1.1.1 Derive gradient equations (20 points)\n",
    "\n",
    "Derive the equations for computing the (first) partial derivatives of the log-likelihood w.r.t. all the parameters, evaluated at a _single_ datapoint $n$.\n",
    "\n",
    "You should start deriving the equations for $\\frac{\\partial \\mathcal{L}^{(n)}}{\\partial \\log q_j}$ for each $j$. For clarity, we'll use the shorthand $\\delta^q_j = \\frac{\\partial \\mathcal{L}^{(n)}}{\\partial \\log q_j}$.\n",
    "\n",
    "For $j = t^{(n)}$:\n",
    "$\n",
    "\\delta^q_j\n",
    "= \\frac{\\partial \\mathcal{L}^{(n)}}{\\partial \\log p_j}\n",
    "\\frac{\\partial \\log p_j}{\\partial \\log q_j}\n",
    "+ \\frac{\\partial \\mathcal{L}^{(n)}}{\\partial \\log Z}\n",
    "\\frac{\\partial \\log Z}{\\partial Z} \n",
    "\\frac{\\partial Z}{\\partial \\log q_j} \n",
    "= 1 \\cdot 1 - \\frac{\\partial \\log Z}{\\partial Z} \n",
    "\\frac{\\partial Z}{\\partial \\log q_j}\n",
    "= 1 - \\frac{\\partial \\log Z}{\\partial Z} \n",
    "\\frac{\\partial Z}{\\partial \\log q_j}\n",
    "$\n",
    "\n",
    "For $j \\neq t^{(n)}$:\n",
    "$\n",
    "\\delta^q_j\n",
    "= \\frac{\\partial \\mathcal{L}^{(n)}}{\\partial \\log Z}\n",
    "\\frac{\\partial \\log Z}{\\partial Z} \n",
    "\\frac{\\partial Z}{\\partial \\log q_j} \n",
    "= - \\frac{\\partial \\log Z}{\\partial Z} \n",
    "\\frac{\\partial Z}{\\partial \\log q_j}\n",
    "$\n",
    "\n",
    "Complete the above derivations for $\\delta^q_j$ by furtherly developing $\\frac{\\partial \\log Z}{\\partial Z}$ and $\\frac{\\partial Z}{\\partial \\log q_j}$. Both are quite simple. For these it doesn't matter whether $j = t^{(n)}$ or not.\n",
    "\n",
    "Given your equations for computing the gradients $\\delta^q_j$ it should be quite straightforward to derive the equations for the gradients of the parameters of the model, $\\frac{\\partial \\mathcal{L}^{(n)}}{\\partial W_{ij}}$ and $\\frac{\\partial \\mathcal{L}^{(n)}}{\\partial b_j}$. The gradients for the biases $\\bb$ are given by:\n",
    "\n",
    "$\n",
    "\\frac{\\partial \\mathcal{L}^{(n)}}{\\partial b_j}\n",
    "= \\frac{\\partial \\mathcal{L}^{(n)}}{\\partial \\log q_j}\n",
    "\\frac{\\partial \\log q_j}{\\partial b_j}\n",
    "= \\delta^q_j\n",
    "\\cdot 1\n",
    "= \\delta^q_j\n",
    "$\n",
    "\n",
    "The equation above gives the derivative of $\\mathcal{L}^{(n)}$ w.r.t. a single element of $\\bb$, so the vector $\\nabla_\\bb \\mathcal{L}^{(n)}$ with all derivatives of $\\mathcal{L}^{(n)}$ w.r.t. the bias parameters $\\bb$ is: \n",
    "\n",
    "$\n",
    "\\nabla_\\bb \\mathcal{L}^{(n)} = \\mathbf{\\delta}^q\n",
    "$\n",
    "\n",
    "where $\\mathbf{\\delta}^q$ denotes the vector of size $10 \\times 1$ with elements $\\mathbf{\\delta}_j^q$.\n",
    "\n",
    "The (not fully developed) equation for computing the derivative of $\\mathcal{L}^{(n)}$ w.r.t. a single element $W_{ij}$ of $\\bW$ is:\n",
    "\n",
    "$\n",
    "\\frac{\\partial \\mathcal{L}^{(n)}}{\\partial W_{ij}} =\n",
    "\\frac{\\partial \\mathcal{L}^{(n)}}{\\partial \\log q_j}\n",
    "\\frac{\\partial \\log q_j}{\\partial W_{ij}}\n",
    "= \\mathbf{\\delta}_j^q\n",
    "\\frac{\\partial \\log q_j}{\\partial W_{ij}}\n",
    "$\n",
    "\n",
    "What is $\\frac{\\partial \\log q_j}{\\partial W_{ij}}$? Complete the equation above.\n",
    "\n",
    "If you want, you can give the resulting equation in vector format ($\\nabla_{\\bw_j} \\mathcal{L}^{(n)} = ...$), like we did for $\\nabla_\\bb \\mathcal{L}^{(n)}$.\n",
    "\n",
    "#####Answer: "
   ]
  },
  {
   "cell_type": "markdown",
   "metadata": {},
   "source": [
    "$$\\nabla_{w_j} \\mathcal{L}^{(n)} = \\delta^q_j \\frac{\\partial \\log q_j}{\\partial W_j} = \\delta^q_j \\cdot x$$"
   ]
  },
  {
   "cell_type": "markdown",
   "metadata": {},
   "source": [
    "### 1.1.2 Implement gradient computations (10 points)\n",
    "\n",
    "Implement the gradient calculations you derived in the previous question. Write a function `logreg_gradient(x, t, w, b)` that returns the gradients $\\nabla_{w_j} \\mathcal{L}^{(n)}$ (for each $j$) and $\\nabla_{b} \\mathcal{L}^{(n)}$, i.e. the first partial derivatives of the log-likelihood w.r.t. the parameters $W$ and $b$, evaluated at a single datapoint (`x`, `t`).\n",
    "The computation will contain roughly the following intermediate variables:\n",
    "\n",
    "$\n",
    "\\log q \\rightarrow Z \\rightarrow \\log p\\,,\\, \\mathbf{\\delta}^q\n",
    "$\n",
    "\n",
    "followed by computation of the gradient vectors $\\nabla_{w_j} \\mathcal{L}^{(n)}$ (contained in a $784 \\times 10$ matrix) and $\\nabla_{b} \\mathcal{L}^{(n)}$ (a $10 \\times 1$ vector).\n"
   ]
  },
  {
   "cell_type": "code",
   "execution_count": 194,
   "metadata": {
    "collapsed": false
   },
   "outputs": [
    {
     "data": {
      "image/png": "[encoded data removed]",
      "text/plain": [
       "<matplotlib.figure.Figure at 0xba90e80>"
      ]
     },
     "metadata": {},
     "output_type": "display_data"
    },
    {
     "name": "stdout",
     "output_type": "stream",
     "text": [
      "[[ 0.9]\n",
      " [-0.1]\n",
      " [-0.1]\n",
      " [-0.1]\n",
      " [-0.1]\n",
      " [-0.1]\n",
      " [-0.1]\n",
      " [-0.1]\n",
      " [-0.1]\n",
      " [-0.1]]\n"
     ]
    }
   ],
   "source": [
    "#log q_j=w^T_j * x+b_j\n",
    "\n",
    "def get_log_p(x,t,w,b):\n",
    "    #print 'w.shape:', w.shape\n",
    "    #print 'x.shape:', x.shape\n",
    "    #print 'b.shape:', b.shape\n",
    "    log_q = np.dot(w.T, x) +b #note: log_q isn't a log(...)???\n",
    "    #print 'log_q.shape:', log_q.shape\n",
    "    \n",
    "    Z = np.sum(np.exp(log_q))\n",
    "    a = np.max(log_q)\n",
    "    Za = np.sum(np.exp(log_q - a))\n",
    "    log_Z = ( a + np.log(Za))\n",
    "    log_p = log_q -log_Z\n",
    "    return Z, log_q, log_p[t][0]\n",
    "    \n",
    "\n",
    "def logreg_gradient(x,t,w,b):\n",
    "    x = x.reshape((-1, 1))\n",
    "    b = b.reshape((-1, 1))\n",
    "    Z, log_q, log_p = get_log_p(x,t,w,b)\n",
    "    #print 'log_p.shape:', log_p.shape\n",
    "    delta_q = -1/Z * np.exp(log_q)\n",
    "#     print 'delta_q.shape:', delta_q.shape\n",
    "    delta_q[t] +=1\n",
    "    nabla_W = delta_q.T * x\n",
    "    nabla_b = delta_q\n",
    "    \n",
    "    return nabla_W, nabla_b, log_p\n",
    "    \n",
    "W = np.zeros((784, 10))\n",
    "b = np.zeros(10)\n",
    "nabla_W, nabla_b, log_p = logreg_gradient(x_train[1], t_train[1], W, b) \n",
    "# print nabla_W\n",
    "plot_digits(nabla_W.T, numcols=5)\n",
    "print nabla_b\n",
    "\n"
   ]
  },
  {
   "cell_type": "markdown",
   "metadata": {},
   "source": [
    "\n",
    "### 1.1.3 Stochastic gradient descent (10 points)\n",
    "\n",
    "Write a function `sgd_iter(x_train, t_train, w, b)` that performs one iteration of stochastic gradient descent (SGD), and returns the new weights. It should go through the trainingset once in randomized order, call `logreg_gradient(x, t, w, b)` for each datapoint to get the gradients, and update the parameters using a small learning rate (e.g. `1E-4`). Note that in this case we're maximizing the likelihood function, so we should actually performing gradient ___ascent___... For more information about SGD, see Bishop 5.2.4 or an online source (i.e. https://en.wikipedia.org/wiki/Stochastic_gradient_descent)"
   ]
  },
  {
   "cell_type": "code",
   "execution_count": 244,
   "metadata": {
    "collapsed": false
   },
   "outputs": [
    {
     "data": {
      "image/png": "[encoded data removed]",
      "text/plain": [
       "<matplotlib.figure.Figure at 0xa12de80>"
      ]
     },
     "metadata": {},
     "output_type": "display_data"
    },
    {
     "data": {
      "image/png": "[encoded data removed]",
      "text/plain": [
       "<matplotlib.figure.Figure at 0xce49e48>"
      ]
     },
     "metadata": {},
     "output_type": "display_data"
    }
   ],
   "source": [
    "import pprint\n",
    "def sgd_iter(x_train, t_train, w, b):\n",
    "    wIn = w.copy()\n",
    "    learn_rate = 1e-5\n",
    "    b = b.reshape((-1, 1))\n",
    "    perm = np.random.permutation(x_train.shape[0])\n",
    "    sum_log_p = 0\n",
    "    for i in perm:\n",
    "        nabla_W, nabla_b, log_p = logreg_gradient(x_train[i], t_train[i], w, b)\n",
    "        w += nabla_W * learn_rate\n",
    "        b += nabla_b * learn_rate\n",
    "        sum_log_p += log_p\n",
    "        \n",
    "    return w, b, sum_log_p\n",
    "        \n",
    "W = np.zeros((784, 10))\n",
    "b = np.zeros(10)\n",
    "\n",
    "for i in range(10):\n",
    "    if i ==1:\n",
    "        plot_digits(W.T, numcols=10)\n",
    "\n",
    "    W, b, _ = sgd_iter(x_train[:21], t_train[:21], W, b)   \n",
    "#     print np.min(W)\n",
    "\n",
    "plot_digits(W.T, numcols=10)\n"
   ]
  },
  {
   "cell_type": "markdown",
   "metadata": {},
   "source": [
    "## 1.2. Train\n",
    "\n",
    "### 1.2.1 Train (10 points)\n",
    "Perform a handful of training iterations through the trainingset. Plot (in one graph) the conditional log-probability of the trainingset and validation set after each iteration.\n"
   ]
  },
  {
   "cell_type": "code",
   "execution_count": 252,
   "metadata": {
    "collapsed": false
   },
   "outputs": [
    {
     "data": {
      "image/png": "[encoded data removed]",
      "text/plain": [
       "<matplotlib.figure.Figure at 0xba908d0>"
      ]
     },
     "metadata": {},
     "output_type": "display_data"
    }
   ],
   "source": [
    "plot_list = []\n",
    "vplot_list = []\n",
    "\n",
    "def valid_log_p(x,t,W,b):\n",
    "    sum_vlog_p=0\n",
    "    for j in range(len(x)):\n",
    "        _,_,vlog_p = get_log_p(x[j],t[j],W,b)\n",
    "        sum_vlog_p+=vlog_p\n",
    "    return sum_vlog_p\n",
    "W = np.zeros((784, 10))\n",
    "b = np.zeros(10)\n",
    "\n",
    "for i in range(150):\n",
    "#     plot_digits(W.T, numcols=10)\n",
    "    W, b, log_p = sgd_iter(x_train[:1000], t_train[:1000], W, b)\n",
    "    plot_list.append(log_p)\n",
    "#     plot_digits(W.T, numcols=10)\n",
    "    sum_vlog_p=valid_log_p(x_valid[:1000], t_valid[:1000], W, b)\n",
    "    vplot_list.append(sum_vlog_p)\n",
    "plt.plot(plot_list, label='Train set')\n",
    "plt.plot(vplot_list, label=\"Validation set\")\n",
    "plt.ylabel('error')\n",
    "plt.xlabel('iteration')\n",
    "plt.legend(bbox_to_anchor=(1.05, 1), loc=2, borderaxespad=0.)\n",
    "\n",
    "plt.show()"
   ]
  },
  {
   "cell_type": "markdown",
   "metadata": {},
   "source": [
    "We choose a learning rate of 1e-5, now you can see in the graph that the errors of the training AND validation are decreasing and after a few iteration the validation error starts increasing."
   ]
  },
  {
   "cell_type": "markdown",
   "metadata": {},
   "source": [
    "### 1.2.2 Visualize weights (10 points)\n",
    "Visualize the resulting parameters $\\bW$ after a few iterations through the training set, by treating each column of $\\bW$ as an image. If you want, you can use or edit the `plot_digits(...)` above."
   ]
  },
  {
   "cell_type": "code",
   "execution_count": 283,
   "metadata": {
    "collapsed": false
   },
   "outputs": [
    {
     "name": "stdout",
     "output_type": "stream",
     "text": [
      "[  0.00000000e+00   0.00000000e+00   0.00000000e+00   0.00000000e+00\n",
      "   0.00000000e+00   0.00000000e+00   0.00000000e+00   0.00000000e+00\n",
      "   0.00000000e+00   0.00000000e+00   0.00000000e+00   0.00000000e+00\n",
      "   0.00000000e+00   0.00000000e+00   0.00000000e+00   0.00000000e+00\n",
      "   0.00000000e+00   0.00000000e+00   0.00000000e+00   0.00000000e+00\n",
      "   0.00000000e+00   0.00000000e+00   0.00000000e+00   0.00000000e+00\n",
      "   0.00000000e+00   0.00000000e+00   0.00000000e+00   0.00000000e+00\n",
      "   0.00000000e+00   0.00000000e+00   0.00000000e+00   0.00000000e+00\n",
      "   0.00000000e+00   0.00000000e+00   0.00000000e+00   0.00000000e+00\n",
      "   0.00000000e+00   0.00000000e+00  -8.77382134e-06  -5.43976923e-05\n",
      "   0.00000000e+00  -8.26135391e-05  -2.63007803e-04  -3.30591485e-04\n",
      "  -3.57703331e-04  -1.55370920e-04  -5.86490730e-05   0.00000000e+00\n",
      "   0.00000000e+00   0.00000000e+00   0.00000000e+00   0.00000000e+00\n",
      "   0.00000000e+00   0.00000000e+00   0.00000000e+00   0.00000000e+00\n",
      "   0.00000000e+00   0.00000000e+00   0.00000000e+00   0.00000000e+00\n",
      "   0.00000000e+00   0.00000000e+00   0.00000000e+00   0.00000000e+00\n",
      "   0.00000000e+00   0.00000000e+00  -1.01243517e-04  -3.34610742e-04\n",
      "  -4.30834749e-04  -5.33178676e-04  -1.10319040e-03  -1.49946811e-03\n",
      "  -2.83899487e-03  -3.06916152e-03  -2.73531757e-03  -2.09396008e-03\n",
      "  -8.84774587e-04  -4.71657646e-04  -2.60086103e-04  -2.59878339e-05\n",
      "   0.00000000e+00   0.00000000e+00   0.00000000e+00   0.00000000e+00\n",
      "   0.00000000e+00   0.00000000e+00   0.00000000e+00   0.00000000e+00\n",
      "   0.00000000e+00   0.00000000e+00  -1.67077263e-05  -1.00614418e-04\n",
      "  -3.60104060e-04  -6.01857641e-04  -9.85164082e-04  -1.50624271e-03\n",
      "  -1.25921804e-03  -2.37134363e-03  -3.85312850e-03  -4.34419777e-03\n",
      "  -6.20738468e-03  -6.41851722e-03  -4.98706217e-03  -3.30507767e-03\n",
      "  -1.98572998e-03  -1.53405290e-03  -5.01487887e-04  -2.09032577e-05\n",
      "   0.00000000e+00   0.00000000e+00   0.00000000e+00   0.00000000e+00\n",
      "   0.00000000e+00   0.00000000e+00   0.00000000e+00   0.00000000e+00\n",
      "  -2.47856880e-05  -1.94565392e-04  -3.52655337e-04  -6.68430511e-04\n",
      "  -1.29469257e-03  -1.64143622e-03  -1.97880243e-03   2.24673027e-04\n",
      "   2.62871454e-03   2.97462330e-03   3.68901672e-03   5.90299304e-04\n",
      "   3.91977388e-04   4.50990668e-03   4.34734839e-03   6.83075934e-03\n",
      "   8.44866530e-03   5.04145132e-03   2.28488226e-03   9.33989418e-04\n",
      "  -1.66357642e-04   0.00000000e+00   0.00000000e+00   0.00000000e+00\n",
      "   0.00000000e+00   0.00000000e+00   0.00000000e+00  -1.27198744e-05\n",
      "  -3.31572305e-04  -9.05163971e-04  -2.13714385e-03  -2.72636926e-03\n",
      "  -2.80449639e-03  -2.73760154e-03  -9.20542606e-04   1.29258227e-03\n",
      "   3.18270656e-03   6.66374720e-03   1.00821799e-02   1.35582063e-02\n",
      "   1.58084285e-02   1.70800929e-02   1.72113807e-02   1.54435811e-02\n",
      "   1.14675405e-02   6.82440269e-03   7.16285378e-04   5.61566808e-04\n",
      "  -2.31178737e-03  -4.41535009e-04  -6.75395797e-05   0.00000000e+00\n",
      "   0.00000000e+00   0.00000000e+00   0.00000000e+00  -2.02112786e-04\n",
      "  -8.70686831e-04  -1.98633425e-03  -3.71711828e-03  -3.81276376e-03\n",
      "  -3.87683858e-03  -8.04203981e-04   6.18658365e-04  -1.21065218e-03\n",
      "   3.02461117e-03   5.48815113e-03   8.77785868e-03   1.70712586e-02\n",
      "   2.48224462e-02   2.39445666e-02   2.34822485e-02   1.92467546e-02\n",
      "   1.28678004e-02   7.94700430e-03   7.81465928e-04  -7.35741571e-04\n",
      "  -3.36088096e-03  -8.47628650e-04  -2.27956156e-04  -1.53632908e-04\n",
      "   0.00000000e+00   0.00000000e+00  -1.00777871e-04  -7.41890994e-04\n",
      "  -1.62178175e-03  -3.20351607e-03  -4.48668899e-03  -4.40201264e-03\n",
      "  -2.30896969e-03  -2.95074240e-04  -4.08060808e-03  -6.24344652e-04\n",
      "   1.09264978e-03   5.32172372e-03   1.09427841e-02   2.04479969e-02\n",
      "   2.40191336e-02   2.74676980e-02   2.44568950e-02   2.30648637e-02\n",
      "   1.76060896e-02   1.15942014e-02   2.08446285e-03  -7.81684025e-04\n",
      "  -2.63859454e-03  -1.77347123e-03  -7.12506257e-04  -1.19911597e-04\n",
      "   0.00000000e+00   0.00000000e+00  -8.22421467e-05  -9.61016462e-04\n",
      "  -2.39365675e-03  -3.87118339e-03  -3.49575471e-03  -4.21685535e-03\n",
      "   1.44383057e-03  -1.84473784e-03  -4.30206458e-04   2.18689373e-03\n",
      "   1.83689513e-03   7.41951502e-03   1.33484349e-02   1.61082293e-02\n",
      "   1.57047670e-02   1.41964619e-02   1.36210025e-02   1.96690154e-02\n",
      "   1.95666499e-02   1.96551637e-02   8.72457948e-03   1.93608235e-03\n",
      "  -4.85306366e-04  -2.24344688e-03  -3.45665756e-04   0.00000000e+00\n",
      "   0.00000000e+00  -3.06521560e-05  -8.56014394e-05  -8.58504346e-04\n",
      "  -2.66803498e-03  -4.02714624e-03  -2.17920142e-03  -1.00956854e-03\n",
      "   1.12314706e-03  -1.39116248e-03   1.53488421e-03   1.04826185e-02\n",
      "   8.14052403e-03   1.52529915e-02   1.46736913e-02   7.46402112e-03\n",
      "  -3.33484696e-03  -6.00407439e-03   1.43952336e-03   1.66572397e-02\n",
      "   2.65304353e-02   2.60288947e-02   1.75910656e-02   6.76100947e-03\n",
      "   1.99219394e-03  -1.10501889e-03  -6.96156739e-05   0.00000000e+00\n",
      "   0.00000000e+00  -3.53678723e-06  -1.91838612e-04  -1.10576190e-03\n",
      "  -2.86495052e-03  -3.47536117e-03   8.58221059e-05   4.26078110e-03\n",
      "   4.04303534e-03   7.27590776e-03   1.05701477e-02   1.22809280e-02\n",
      "   1.72985431e-02   1.87770947e-02   8.53565384e-03  -1.21989473e-02\n",
      "  -2.36442538e-02  -2.27253371e-02  -8.81807216e-03   9.89893236e-03\n",
      "   2.93619517e-02   3.51368916e-02   2.84562643e-02   1.44989097e-02\n",
      "   4.25249737e-03  -3.05568722e-04  -5.22087497e-05   0.00000000e+00\n",
      "   0.00000000e+00   0.00000000e+00  -1.66456138e-04  -1.02169583e-03\n",
      "  -2.69272510e-03  -2.01618239e-04   6.06807541e-03   9.15771895e-03\n",
      "   8.99651053e-03   1.54323560e-02   1.51281909e-02   1.67733820e-02\n",
      "   1.60272141e-02   6.28605343e-03  -1.35059459e-02  -2.98395299e-02\n",
      "  -3.61932991e-02  -3.65479809e-02  -2.06537795e-02   2.09610197e-03\n",
      "   2.78306685e-02   4.08912947e-02   3.68527841e-02   2.02760759e-02\n",
      "   6.47937047e-03   4.08895541e-04   9.94344901e-04   0.00000000e+00\n",
      "   0.00000000e+00   0.00000000e+00  -8.27377200e-05  -6.34880850e-04\n",
      "  -2.46002980e-03   3.03405929e-03   1.06530787e-02   1.23812348e-02\n",
      "   1.74879945e-02   2.32961457e-02   1.78652189e-02   1.17877872e-02\n",
      "   1.77884818e-03  -1.57284508e-02  -3.54811328e-02  -4.54200131e-02\n",
      "  -4.99977657e-02  -4.67098346e-02  -2.93281268e-02  -2.72501776e-03\n",
      "   3.03879951e-02   4.34334399e-02   3.93174722e-02   2.30494282e-02\n",
      "   7.48601566e-03   4.38289863e-04   7.92726580e-04   0.00000000e+00\n",
      "   0.00000000e+00   0.00000000e+00   2.32108798e-04  -2.00293982e-04\n",
      "  -1.00821101e-03   5.24061153e-03   1.44774257e-02   1.97578141e-02\n",
      "   2.69565469e-02   3.00107712e-02   1.78239469e-02   1.81670292e-03\n",
      "  -1.44579085e-02  -3.82451689e-02  -5.26324081e-02  -5.93199182e-02\n",
      "  -6.34435472e-02  -5.55773452e-02  -2.81021940e-02  -6.01352515e-04\n",
      "   3.12358956e-02   4.55266521e-02   3.81806548e-02   2.28889167e-02\n",
      "   7.58530782e-03  -5.33973404e-06   9.16446913e-05   0.00000000e+00\n",
      "   0.00000000e+00   0.00000000e+00   0.00000000e+00  -1.97997285e-04\n",
      "  -3.77811313e-04   8.97728635e-03   2.02248897e-02   2.86163382e-02\n",
      "   3.50166033e-02   2.98362610e-02   9.82473271e-03  -1.12500913e-02\n",
      "  -3.60588761e-02  -5.28514538e-02  -6.12359565e-02  -6.60240179e-02\n",
      "  -6.61493842e-02  -5.51381972e-02  -2.71675714e-02   3.45220746e-03\n",
      "   3.00352821e-02   4.05651164e-02   3.37727568e-02   2.14537823e-02\n",
      "   8.32484011e-03  -1.51873153e-04  -7.52255809e-06   0.00000000e+00\n",
      "   0.00000000e+00   0.00000000e+00   0.00000000e+00  -2.36605958e-04\n",
      "  -2.04471261e-04   1.41485066e-02   2.78222714e-02   3.62732738e-02\n",
      "   4.19085789e-02   2.68087575e-02   5.01251946e-04  -2.80167355e-02\n",
      "  -4.61064357e-02  -5.63530152e-02  -6.15026041e-02  -6.37017687e-02\n",
      "  -6.02121669e-02  -4.63741848e-02  -1.97599462e-02   9.36390226e-03\n",
      "   3.13176415e-02   3.29608963e-02   2.48402987e-02   1.85435214e-02\n",
      "   8.67236132e-03  -3.98665826e-04  -1.41704922e-04   0.00000000e+00\n",
      "   0.00000000e+00   0.00000000e+00  -6.40200237e-06  -2.40288550e-04\n",
      "   1.91181788e-04   1.78824175e-02   3.26635226e-02   4.43860078e-02\n",
      "   4.27429084e-02   2.07382945e-02  -9.43838345e-03  -3.18158661e-02\n",
      "  -4.34521319e-02  -5.14470549e-02  -5.72886644e-02  -5.67726458e-02\n",
      "  -4.91813060e-02  -3.35016587e-02  -8.90267357e-03   1.52456341e-02\n",
      "   2.80375727e-02   2.80507994e-02   1.73982150e-02   1.47713795e-02\n",
      "   7.72235432e-03  -4.15371444e-04  -6.42310729e-05   0.00000000e+00\n",
      "   0.00000000e+00   0.00000000e+00  -2.44320511e-05  -5.58150027e-04\n",
      "   2.71324471e-03   2.14732578e-02   3.70380954e-02   4.76642365e-02\n",
      "   4.37864593e-02   1.85031190e-02  -1.02089139e-02  -2.63546578e-02\n",
      "  -3.62215744e-02  -4.51098207e-02  -4.88995252e-02  -4.58734797e-02\n",
      "  -3.34717269e-02  -1.84673941e-02   3.02059691e-03   2.04686576e-02\n",
      "   2.46590900e-02   1.71887050e-02   1.13364139e-02   1.06852961e-02\n",
      "   5.84835101e-03  -6.94244206e-04   0.00000000e+00   0.00000000e+00\n",
      "   0.00000000e+00   0.00000000e+00  -1.07234776e-04  -9.76310690e-04\n",
      "   4.38626105e-03   2.10728741e-02   3.74309367e-02   4.84064712e-02\n",
      "   4.11863645e-02   1.48825143e-02  -8.37895388e-03  -2.19610097e-02\n",
      "  -3.19973923e-02  -3.74420982e-02  -3.83125839e-02  -3.19338260e-02\n",
      "  -1.81952426e-02   5.08413898e-04   1.26421996e-02   2.01003143e-02\n",
      "   1.60905015e-02   8.34048382e-03   7.74494055e-03   8.17558149e-03\n",
      "   3.84180891e-03   6.64659645e-05   0.00000000e+00   0.00000000e+00\n",
      "   0.00000000e+00   0.00000000e+00  -1.32066439e-04  -1.66729614e-03\n",
      "   3.72664845e-03   1.78102212e-02   3.30189369e-02   4.20902039e-02\n",
      "   3.55531092e-02   1.80561708e-02   1.34673845e-03  -1.08342171e-02\n",
      "  -2.15166452e-02  -2.62230754e-02  -2.42744547e-02  -1.81042448e-02\n",
      "  -4.63960264e-03   8.10487834e-03   1.29780863e-02   1.50995700e-02\n",
      "   9.17073832e-03   7.70138257e-03   7.37857425e-03   7.14944621e-03\n",
      "   1.89510932e-03   3.70695399e-05   0.00000000e+00   0.00000000e+00\n",
      "   0.00000000e+00   0.00000000e+00  -1.64974205e-04  -2.35787430e-03\n",
      "   3.52990417e-03   1.20698596e-02   2.82862139e-02   3.17410856e-02\n",
      "   3.20267428e-02   2.53377535e-02   1.67156260e-02   9.23313762e-03\n",
      "   4.46853225e-03  -1.65170008e-03  -6.80949071e-03   3.14279011e-04\n",
      "   9.21529149e-03   1.47432154e-02   1.11878767e-02   7.97407253e-03\n",
      "   8.21579134e-03   7.78028717e-03   7.70195494e-03   3.54175135e-03\n",
      "  -3.33522243e-04   1.11526344e-04   6.59841778e-04   0.00000000e+00\n",
      "   0.00000000e+00   0.00000000e+00  -2.36110450e-04  -2.14365160e-03\n",
      "   1.51457802e-03   1.00387077e-02   2.00281293e-02   2.78053082e-02\n",
      "   3.02815860e-02   3.46614605e-02   3.24062881e-02   2.50806373e-02\n",
      "   1.67209405e-02   9.01950075e-03   6.83148703e-03   1.25036711e-02\n",
      "   1.70578507e-02   1.41641417e-02   1.02863459e-02   6.76033544e-03\n",
      "   7.40841628e-03   7.37698556e-03   4.15892485e-03   1.58532397e-04\n",
      "  -1.59465690e-04   4.39161371e-04   1.10719280e-03   0.00000000e+00\n",
      "   0.00000000e+00   0.00000000e+00  -1.14281848e-04  -1.18533104e-03\n",
      "   1.50184264e-03   8.88634039e-03   1.41431105e-02   1.63606725e-02\n",
      "   2.05212741e-02   2.68929731e-02   3.10176698e-02   2.82226221e-02\n",
      "   2.41375561e-02   1.98348274e-02   1.66152265e-02   1.85245365e-02\n",
      "   1.45138853e-02   9.55780226e-03   5.50131978e-03   7.26817803e-03\n",
      "   5.54024947e-03   2.62285727e-03   5.45254625e-05  -7.12382834e-04\n",
      "  -1.86030972e-04   2.84098543e-04   6.50677308e-04   0.00000000e+00\n",
      "   0.00000000e+00   0.00000000e+00  -2.25588284e-05  -4.75374584e-04\n",
      "  -8.10585994e-04   2.61657590e-03   4.81253664e-03   4.28856537e-03\n",
      "   5.75504373e-03   9.92430513e-03   1.35249346e-02   1.50689425e-02\n",
      "   1.38482285e-02   1.27159386e-02   1.16987065e-02   9.22121390e-03\n",
      "   2.76275570e-03   2.28695370e-03   2.97777580e-03   1.73491942e-03\n",
      "  -4.03227804e-04  -1.22328300e-03  -6.54623317e-04  -7.34865395e-04\n",
      "  -1.06823553e-04   0.00000000e+00   0.00000000e+00   0.00000000e+00\n",
      "   0.00000000e+00   0.00000000e+00   0.00000000e+00  -2.97119258e-04\n",
      "  -1.12731392e-03  -2.37058481e-03  -3.60314642e-03  -5.33846982e-03\n",
      "  -8.95481840e-03  -1.20629128e-02  -1.35691067e-02  -9.88727567e-03\n",
      "  -6.69129189e-03  -4.52060781e-03  -2.80391290e-03  -2.92191548e-03\n",
      "  -4.55705904e-03  -3.22317166e-03  -2.77953775e-03  -2.47359302e-03\n",
      "  -1.89105835e-03  -7.10756569e-04  -3.95904884e-04  -3.45248542e-04\n",
      "  -8.43524798e-05   0.00000000e+00   0.00000000e+00   0.00000000e+00\n",
      "   0.00000000e+00   0.00000000e+00   0.00000000e+00  -1.84625375e-05\n",
      "  -2.74781395e-04  -9.75815466e-04  -2.15844349e-03  -3.53212681e-03\n",
      "  -5.05954809e-03  -6.74673776e-03  -8.36412700e-03  -7.67238456e-03\n",
      "  -6.77931658e-03  -6.16875485e-03  -5.56449772e-03  -4.58179779e-03\n",
      "  -4.25033089e-03  -2.62394354e-03  -1.78294559e-03  -1.10643509e-03\n",
      "  -6.25461189e-04  -9.21401494e-05  -1.45874013e-04  -1.75976725e-04\n",
      "  -3.85403572e-05   0.00000000e+00   0.00000000e+00   0.00000000e+00\n",
      "   0.00000000e+00   0.00000000e+00   0.00000000e+00  -1.75122116e-05\n",
      "  -1.91249445e-04  -3.67928470e-04  -1.32193778e-03  -1.82851980e-03\n",
      "  -2.25455324e-03  -2.73853170e-03  -2.95943716e-03  -2.08154681e-03\n",
      "  -1.82822181e-03  -2.10217819e-03  -2.13755455e-03  -2.26124623e-03\n",
      "  -2.03091366e-03  -1.22397408e-03  -6.03607781e-04  -3.35270683e-04\n",
      "  -6.68551819e-05  -1.75435584e-05   0.00000000e+00   0.00000000e+00\n",
      "   0.00000000e+00   0.00000000e+00   0.00000000e+00   0.00000000e+00\n",
      "   0.00000000e+00   0.00000000e+00   0.00000000e+00   0.00000000e+00\n",
      "   0.00000000e+00  -9.50448511e-05  -2.12037733e-04  -3.03791734e-04\n",
      "  -3.29775331e-04  -1.84614565e-04  -1.30166714e-04  -1.28174290e-04\n",
      "  -2.92586002e-04  -3.91688369e-04  -3.60674164e-04  -4.21254175e-04\n",
      "  -5.29718612e-04  -3.26642409e-04  -2.02001614e-04  -6.12175040e-05\n",
      "   0.00000000e+00   0.00000000e+00   0.00000000e+00   0.00000000e+00\n",
      "   0.00000000e+00   0.00000000e+00   0.00000000e+00   0.00000000e+00]\n"
     ]
    },
    {
     "data": {
      "image/png": "[encoded data removed]",
      "text/plain": [
       "<matplotlib.figure.Figure at 0xce3b748>"
      ]
     },
     "metadata": {},
     "output_type": "display_data"
    }
   ],
   "source": [
    "print W.T[0]\n",
    "\n",
    "plot_digits(W.T, numcols=5)"
   ]
  },
  {
   "cell_type": "markdown",
   "metadata": {},
   "source": [
    "### 1.2.3. Visualize the 8 hardest and 8 easiest digits (10 points)\n",
    "Visualize the 8 digits in the validation set with the highest probability of the true class label under the model.\n",
    "Also plot the 8 digits that were assigned the lowest probability.\n",
    "Ask yourself if these results make sense."
   ]
  },
  {
   "cell_type": "code",
   "execution_count": 300,
   "metadata": {
    "collapsed": false
   },
   "outputs": [
    {
     "data": {
      "image/png": "[encoded data removed]",
      "text/plain": [
       "<matplotlib.figure.Figure at 0xc2ffeb8>"
      ]
     },
     "metadata": {},
     "output_type": "display_data"
    },
    {
     "name": "stdout",
     "output_type": "stream",
     "text": [
      "[1, 7, 1, 1, 1, 1, 7, 1]\n"
     ]
    },
    {
     "data": {
      "image/png": "[encoded data removed]",
      "text/plain": [
       "<matplotlib.figure.Figure at 0xbe954e0>"
      ]
     },
     "metadata": {},
     "output_type": "display_data"
    },
    {
     "name": "stdout",
     "output_type": "stream",
     "text": [
      "[0, 0, 0, 0, 0, 0, 0, 0]\n"
     ]
    }
   ],
   "source": [
    "prob_list = [] #[[image, prob], [],...,[]]\n",
    "for i, image in enumerate(x_valid):\n",
    "    _,_,prob = get_log_p(x_valid[i],t_valid[i],W,b)\n",
    "    prob_list.append([image,prob, t_valid[i]])\n",
    "\n",
    "        \n",
    "# print prob_list[0][1]\n",
    "prob_list = sorted(prob_list,key=lambda x: x[1])\n",
    "n=8\n",
    "plot_digits( numpy.asarray([numpy.asarray(x[0]) for x in prob_list[:n]]), numcols=8)\n",
    "# print [x[2] for x in prob_list[:n]]\n",
    "plot_digits( numpy.asarray([numpy.asarray(x[0]) for x in prob_list[-n:]]), numcols=8)\n",
    "# print [x[2] for x in prob_list[-n:]]\n",
    "\n",
    "\n",
    "    "
   ]
  },
  {
   "cell_type": "markdown",
   "metadata": {},
   "source": [
    "Do these results make sense? Yes, the 7 and one are similar in the vertical line wich makes it harder to classify. All zeros are just a circle and therefore simple to classify"
   ]
  },
  {
   "cell_type": "markdown",
   "metadata": {},
   "source": [
    "# Part 2. Multilayer perceptron\n",
    "\n",
    "\n",
    "You discover that the predictions by the logistic regression classifier are not good enough for your application: the model is too simple. You want to increase the accuracy of your predictions by using a better model. For this purpose, you're going to use a multilayer perceptron (MLP), a simple kind of neural network. The perceptron wil have a single hidden layer $\\bh$ with $L$ elements. The parameters of the model are $\\bV$ (connections between input $\\bx$ and hidden layer $\\bh$), $\\ba$ (the biases/intercepts of $\\bh$), $\\bW$ (connections between $\\bh$ and $\\log q$) and $\\bb$ (the biases/intercepts of $\\log q$.\n",
    "\n",
    "The conditional probability of the class label $j$ is given by:\n",
    "\n",
    "$\\log p(t = j \\;|\\; \\bx, \\bb, \\bW) = \\log q_j - \\log Z$\n",
    "\n",
    "where $q_j$ are again the unnormalized probabilities per class, and $Z = \\sum_j q_j$ is again the probability normalizing factor. Each $q_j$ is computed using:\n",
    "\n",
    "$\\log q_j = \\bw_j^T \\bh + b_j$\n",
    "\n",
    "where $\\bh$ is a $L \\times 1$ vector with the hidden layer activations (of a hidden layer with size $L$), and $\\bw_j$ is the $j$-th column of $\\bW$ (a $L \\times 10$ matrix). Each element of the hidden layer is computed from the input vector $\\bx$ using:\n",
    "\n",
    "$h_j = \\sigma(\\bv_j^T \\bx + a_j)$\n",
    "\n",
    "where $\\bv_j$ is the $j$-th column of $\\bV$ (a $784 \\times L$ matrix), $a_j$ is the $j$-th element of $\\ba$, and $\\sigma(.)$ is the so-called sigmoid activation function, defined by:\n",
    "\n",
    "$\\sigma(x) = \\frac{1}{1 + \\exp(-x)}$\n",
    "\n",
    "Note that this model is almost equal to the multiclass logistic regression model, but with an extra 'hidden layer' $\\bh$. The activations of this hidden layer can be viewed as features computed from the input, where the feature transformation ($\\bV$ and $\\ba$) is learned.\n",
    "\n",
    "## 2.1 Derive gradient equations (20 points)\n",
    "\n",
    "State (shortly) why $\\nabla_{\\bb} \\mathcal{L}^{(n)}$ is equal to the earlier (multiclass logistic regression) case, and why $\\nabla_{\\bw_j} \\mathcal{L}^{(n)}$ is almost equal to the earlier case.\n",
    "\n",
    "Like in multiclass logistic regression, you should use intermediate variables $\\mathbf{\\delta}_j^q$. In addition, you should use intermediate variables $\\mathbf{\\delta}_j^h = \\frac{\\partial \\mathcal{L}^{(n)}}{\\partial h_j}$.\n",
    "\n",
    "Given an input image, roughly the following intermediate variables should be computed:\n",
    "\n",
    "$\n",
    "\\log \\bq \\rightarrow Z \\rightarrow \\log \\bp \\rightarrow \\mathbf{\\delta}^q \\rightarrow \\mathbf{\\delta}^h\n",
    "$\n",
    "\n",
    "where $\\mathbf{\\delta}_j^h = \\frac{\\partial \\mathcal{L}^{(n)}}{\\partial \\bh_j}$.\n",
    "\n",
    "Give the equations for computing $\\mathbf{\\delta}^h$, and for computing the derivatives of $\\mathcal{L}^{(n)}$ w.r.t. $\\bW$, $\\bb$, $\\bV$ and $\\ba$. \n",
    "\n",
    "You can use the convenient fact that $\\frac{\\partial}{\\partial x} \\sigma(x) = \\sigma(x) (1 - \\sigma(x))$.\n",
    "\n",
    "#####Answer: "
   ]
  },
  {
   "cell_type": "markdown",
   "metadata": {},
   "source": [
    "[insert answer in this Markdown cell]"
   ]
  },
  {
   "cell_type": "markdown",
   "metadata": {},
   "source": [
    "## 2.2 MAP optimization (10 points)\n",
    "\n",
    "You derived equations for finding the _maximum likelihood_ solution of the parameters. Explain, in a few sentences, how you could extend this approach so that it optimizes towards a _maximum a posteriori_ (MAP) solution of the parameters, with a Gaussian prior on the parameters. \n",
    "\n",
    "#####Answer: "
   ]
  },
  {
   "cell_type": "markdown",
   "metadata": {},
   "source": [
    "[insert answer in this Markdown cell]"
   ]
  },
  {
   "cell_type": "markdown",
   "metadata": {},
   "source": [
    "## 2.3. Implement and train a MLP (15 points)\n",
    "\n",
    "Implement a MLP model with a single hidden layer, and code to train the model."
   ]
  },
  {
   "cell_type": "code",
   "execution_count": null,
   "metadata": {
    "collapsed": false
   },
   "outputs": [],
   "source": []
  },
  {
   "cell_type": "markdown",
   "metadata": {},
   "source": [
    "### 2.3.1. Less than 250 misclassifications on the test set (10 bonus points)\n",
    "\n",
    "You receive an additional 10 bonus points if you manage to train a model with very high accuracy: at most 2.5% misclasified digits on the test set. Note that the test set contains 10000 digits, so you model should misclassify at most 250 digits. This should be achievable with a MLP model with one hidden layer. See results of various models at : `http://yann.lecun.com/exdb/mnist/index.html`. To reach such a low accuracy, you probably need to have a very high $L$ (many hidden units), probably $L > 200$, and apply a strong Gaussian prior on the weights. In this case you are allowed to use the validation set for training.\n",
    "You are allowed to add additional layers, and use convolutional networks, although that is probably not required to reach 2.5% misclassifications."
   ]
  },
  {
   "cell_type": "code",
   "execution_count": null,
   "metadata": {
    "collapsed": false
   },
   "outputs": [],
   "source": []
  }
 ],
 "metadata": {
  "kernelspec": {
   "display_name": "Python 2",
   "language": "python",
   "name": "python2"
  },
  "language_info": {
   "codemirror_mode": {
    "name": "ipython",
    "version": 2
   },
   "file_extension": ".py",
   "mimetype": "text/x-python",
   "name": "python",
   "nbconvert_exporter": "python",
   "pygments_lexer": "ipython2",
   "version": "2.7.10"
  }
 },
 "nbformat": 4,
 "nbformat_minor": 0
}
